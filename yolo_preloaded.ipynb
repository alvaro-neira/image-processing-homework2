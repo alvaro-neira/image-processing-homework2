{
  "nbformat": 4,
  "nbformat_minor": 0,
  "metadata": {
    "colab": {
      "name": "yolo_preloaded.ipynb",
      "provenance": [],
      "collapsed_sections": [],
      "machine_shape": "hm"
    },
    "kernelspec": {
      "name": "python3",
      "display_name": "Python 3"
    },
    "language_info": {
      "name": "python"
    },
    "accelerator": "GPU"
  },
  "cells": [
    {
      "cell_type": "markdown",
      "metadata": {
        "id": "K51hDU1Goib4"
      },
      "source": [
        "## YOLOv5 Preloaded\n"
      ]
    },
    {
      "cell_type": "code",
      "metadata": {
        "colab": {
          "base_uri": "https://localhost:8080/"
        },
        "id": "-57pDIqTJ_rJ",
        "outputId": "a356b3e7-4314-4574-b4fa-3f2b2191f007"
      },
      "source": [
        "from google.colab import drive\n",
        "drive.mount('/content/drive')"
      ],
      "execution_count": 2,
      "outputs": [
        {
          "output_type": "stream",
          "name": "stdout",
          "text": [
            "Drive already mounted at /content/drive; to attempt to forcibly remount, call drive.mount(\"/content/drive\", force_remount=True).\n"
          ]
        }
      ]
    },
    {
      "cell_type": "code",
      "metadata": {
        "colab": {
          "base_uri": "https://localhost:8080/"
        },
        "id": "laYOFrjTC_90",
        "outputId": "9a2f7be6-caa4-42b5-82d4-cacda7520369"
      },
      "source": [
        "# Copiamos los datos al entorno de Colab\n",
        "!mkdir -p /content/data\n",
        "%cd /content/data\n",
        "!cp /content/drive/MyDrive/image_processing/tarea2/orand-car-with-bbs.zip .\n",
        "!unzip -q -o orand-car-with-bbs.zip\n",
        "!rm orand-car-with-bbs.zip"
      ],
      "execution_count": 5,
      "outputs": [
        {
          "output_type": "stream",
          "name": "stdout",
          "text": [
            "/content/data\n"
          ]
        }
      ]
    },
    {
      "cell_type": "markdown",
      "metadata": {
        "id": "PYZ1q9ADNkiT"
      },
      "source": [
        "### Convertir coordenadas\n",
        "\n",
        "El primer paso será convertir el formato de las anotaciones como se mencionó anteriormente. El código requiere tener las imágenes en un directorio llamado 'images' y las anotaciones en un directorio llamado 'labels'.\n"
      ]
    },
    {
      "cell_type": "code",
      "metadata": {
        "colab": {
          "base_uri": "https://localhost:8080/"
        },
        "id": "RNns7DhRD0U3",
        "outputId": "9ab4bcb7-f8b6-4515-a472-67c24d1203e3"
      },
      "source": [
        "%cd /content/data/orand-car-with-bbs/training\n",
        "!mkdir labels\n",
        "\n",
        "import cv2\n",
        "import glob\n",
        "import os\n",
        "\n",
        "filenames = glob.glob(\"./annotations/*.txt\")\n",
        "\n",
        "# Iteramos sobre todas las imágenes\n",
        "for filename in filenames:\n",
        "\n",
        "    # Abrimos la imagen para obtener sus dimensiones\n",
        "    img_path = filename.split(\"/\")[-1].replace(\".txt\", \".png\")\n",
        "    img_path = os.path.join(\"./images\", img_path)\n",
        "    img = cv2.imread(img_path)\n",
        "    img_height, img_width, _ = img.shape\n",
        "\n",
        "    # Obtenemos las coordenadas de cada objeto en la imagen\n",
        "    with open(filename, 'r') as f:\n",
        "        lines = f.readlines()\n",
        "        lines = [x.strip() for x in lines]\n",
        "        lines = [x.replace(' ', '') for x in lines]\n",
        "\n",
        "    annotations_yolo = []\n",
        "    # Iteramos sobre todas las anotaciones de la imagen\n",
        "    for obj in lines:\n",
        "        label = obj.split(\":\")[0]\n",
        "        bbox = obj.split(\":\")[1]\n",
        "        bbox = bbox.replace(\",\", \" \")\n",
        "\n",
        "        annotation = label + \" \" + bbox\n",
        "        ann = annotation.split(\" \")\n",
        "        ann = [int(x) for x in ann]\n",
        "        label = ann[0]\n",
        "        xmin, ymin, width, height = ann[1:]\n",
        "\n",
        "        # Obtenemos las coordenadas normalizadas\n",
        "        x_center = (xmin + (width / 2)) / img_width\n",
        "        y_center = (ymin + (height/ 2)) / img_height\n",
        "        width = width / img_width\n",
        "        height = height / img_height\n",
        "\n",
        "        obj_info = [label, x_center, y_center, width, height]\n",
        "        annotations_yolo.append(obj_info)\n",
        "\n",
        "    # Escribimos las nuevas anotaciones en un archivo del mismo nombre pero \n",
        "    # en el directorio labels\n",
        "    new_filename = filename.split(\"/\")[-1]\n",
        "    new_filename = os.path.join(\"./labels\", new_filename)\n",
        "    with open(new_filename, mode='w') as outfile:\n",
        "        for annotation in annotations_yolo:\n",
        "            annotation = [str(x) for x in annotation]\n",
        "            line = ' '.join(annotation)\n",
        "            outfile.write(\"%s\\n\" % line)"
      ],
      "execution_count": 6,
      "outputs": [
        {
          "output_type": "stream",
          "name": "stdout",
          "text": [
            "/content/data/orand-car-with-bbs/training\n"
          ]
        }
      ]
    },
    {
      "cell_type": "code",
      "metadata": {
        "colab": {
          "base_uri": "https://localhost:8080/"
        },
        "id": "jTZHesUWIIZf",
        "outputId": "40c5fb12-a733-416b-fb82-eb092fd10359"
      },
      "source": [
        "# Ejemplo de anotación antigua\n",
        "!cat /content/data/orand-car-with-bbs/training/annotations/0001_5179655_46066.txt"
      ],
      "execution_count": 7,
      "outputs": [
        {
          "output_type": "stream",
          "name": "stdout",
          "text": [
            "4: 83, 8, 43, 53\r\n",
            "6: 143, 11, 39, 50\r\n",
            "0: 204, 11, 43, 43\r\n",
            "6: 264, 15, 43, 43\r\n",
            "6: 329, 11, 36, 51"
          ]
        }
      ]
    },
    {
      "cell_type": "code",
      "metadata": {
        "colab": {
          "base_uri": "https://localhost:8080/"
        },
        "id": "_9HTiaUzMW39",
        "outputId": "c3abd4cb-59a8-4de6-fe18-61012fc7cba2"
      },
      "source": [
        "# Ejemplo de la misma anotación pero con el nuevo formato\n",
        "!cat /content/data/orand-car-with-bbs/training/labels/0001_5179655_46066.txt"
      ],
      "execution_count": 8,
      "outputs": [
        {
          "output_type": "stream",
          "name": "stdout",
          "text": [
            "4 0.2301762114537445 0.4928571428571429 0.0947136563876652 0.7571428571428571\n",
            "6 0.3579295154185022 0.5142857142857142 0.08590308370044053 0.7142857142857143\n",
            "0 0.4966960352422907 0.4642857142857143 0.0947136563876652 0.6142857142857143\n",
            "6 0.6288546255506607 0.5214285714285715 0.0947136563876652 0.6142857142857143\n",
            "6 0.76431718061674 0.5214285714285715 0.07929515418502203 0.7285714285714285\n"
          ]
        }
      ]
    },
    {
      "cell_type": "markdown",
      "metadata": {
        "id": "0pWRH-3dOiD0"
      },
      "source": [
        "Ahora dividiremos los datos en un conjunto de entrenamiento y uno de test, en una proporción 90%-10% respectivamente."
      ]
    },
    {
      "cell_type": "code",
      "metadata": {
        "colab": {
          "base_uri": "https://localhost:8080/"
        },
        "id": "KVKCQ4u1PTaS",
        "outputId": "577d6199-e2a0-4e32-d56b-000abac08252"
      },
      "source": [
        "%cd /content/data/orand-car-with-bbs/training\n",
        "\n",
        "import numpy as np\n",
        "import random\n",
        "\n",
        "filenames = glob.glob(\"images/*.png\")\n",
        "random.shuffle(filenames)\n",
        "\n",
        "n = len(filenames)\n",
        "split_ratio = 0.9\n",
        "split_index = np.rint(n * split_ratio).astype(\"int\")\n",
        "\n",
        "train_split = filenames[:split_index]\n",
        "test_split = filenames[split_index:]\n",
        "\n",
        "train_dir = \"/content/data/orand-car-with-bbs/training/\"\n",
        "\n",
        "with open(\"train.txt\", mode='w') as outfile:\n",
        "    for annotation in train_split:\n",
        "        annotation = os.path.join(train_dir, annotation)\n",
        "        outfile.write(\"%s\\n\" % annotation)\n",
        "\n",
        "with open(\"test.txt\", mode='w') as outfile:\n",
        "    for annotation in test_split:\n",
        "        annotation = os.path.join(train_dir, annotation)\n",
        "        outfile.write(\"%s\\n\" % annotation)\n",
        "\n",
        "print(f\"Total de imágenes: {n}\")\n",
        "print(f\"Imágenes de entrenamiento: {len(train_split)}\")\n",
        "print(f\"Imágenes de test: {len(test_split)}\")"
      ],
      "execution_count": 9,
      "outputs": [
        {
          "output_type": "stream",
          "name": "stdout",
          "text": [
            "/content/data/orand-car-with-bbs/training\n",
            "Total de imágenes: 6506\n",
            "Imágenes de entrenamiento: 5855\n",
            "Imágenes de test: 651\n"
          ]
        }
      ]
    },
    {
      "cell_type": "markdown",
      "metadata": {
        "id": "w8X1cllIM315"
      },
      "source": [
        "### Entrenamiento\n",
        "\n",
        "Para el entrenamiento seguiremos los siguientes pasos:\n",
        "\n",
        "* Clonar el repositorio de YOLOv5.\n",
        "* Instalar las librerías requeridas.\n",
        "* Modificar los archivos de configuración necesarios."
      ]
    },
    {
      "cell_type": "code",
      "metadata": {
        "colab": {
          "base_uri": "https://localhost:8080/"
        },
        "id": "zHafx4BaMsL-",
        "outputId": "81eb7817-6c6c-40b2-89e9-f15fe5788f43"
      },
      "source": [
        "# Clonamos el repositorio\n",
        "%cd /content\n",
        "!rm -rf yolov5\n",
        "!git clone https://github.com/alvaro-neira/yolov5.git\n",
        "\n",
        "# Instalamos los requisitos\n",
        "%cd /content/yolov5\n",
        "!git fetch --all\n",
        "!git checkout tarea2\n",
        "!git pull origin tarea2\n",
        "!pip install -r requirements.txt"
      ],
      "execution_count": 10,
      "outputs": [
        {
          "output_type": "stream",
          "name": "stdout",
          "text": [
            "/content\n",
            "Cloning into 'yolov5'...\n",
            "remote: Enumerating objects: 10013, done.\u001b[K\n",
            "remote: Counting objects: 100% (5/5), done.\u001b[K\n",
            "remote: Compressing objects: 100% (5/5), done.\u001b[K\n",
            "remote: Total 10013 (delta 0), reused 4 (delta 0), pack-reused 10008\u001b[K\n",
            "Receiving objects: 100% (10013/10013), 10.36 MiB | 7.60 MiB/s, done.\n",
            "Resolving deltas: 100% (6938/6938), done.\n",
            "/content/yolov5\n",
            "Fetching origin\n",
            "Branch 'tarea2' set up to track remote branch 'tarea2' from 'origin'.\n",
            "Switched to a new branch 'tarea2'\n",
            "From https://github.com/alvaro-neira/yolov5\n",
            " * branch            tarea2     -> FETCH_HEAD\n",
            "Already up to date.\n",
            "Requirement already satisfied: matplotlib>=3.2.2 in /usr/local/lib/python3.7/dist-packages (from -r requirements.txt (line 4)) (3.2.2)\n",
            "Requirement already satisfied: numpy>=1.18.5 in /usr/local/lib/python3.7/dist-packages (from -r requirements.txt (line 5)) (1.19.5)\n",
            "Requirement already satisfied: opencv-python>=4.1.2 in /usr/local/lib/python3.7/dist-packages (from -r requirements.txt (line 6)) (4.1.2.30)\n",
            "Requirement already satisfied: Pillow>=7.1.2 in /usr/local/lib/python3.7/dist-packages (from -r requirements.txt (line 7)) (7.1.2)\n",
            "Collecting PyYAML>=5.3.1\n",
            "  Downloading PyYAML-6.0-cp37-cp37m-manylinux_2_5_x86_64.manylinux1_x86_64.manylinux_2_12_x86_64.manylinux2010_x86_64.whl (596 kB)\n",
            "\u001b[K     |████████████████████████████████| 596 kB 2.0 MB/s \n",
            "\u001b[?25hRequirement already satisfied: requests>=2.23.0 in /usr/local/lib/python3.7/dist-packages (from -r requirements.txt (line 9)) (2.23.0)\n",
            "Requirement already satisfied: scipy>=1.4.1 in /usr/local/lib/python3.7/dist-packages (from -r requirements.txt (line 10)) (1.4.1)\n",
            "Requirement already satisfied: torch>=1.7.0 in /usr/local/lib/python3.7/dist-packages (from -r requirements.txt (line 11)) (1.10.0+cu111)\n",
            "Requirement already satisfied: torchvision>=0.8.1 in /usr/local/lib/python3.7/dist-packages (from -r requirements.txt (line 12)) (0.11.1+cu111)\n",
            "Requirement already satisfied: tqdm>=4.41.0 in /usr/local/lib/python3.7/dist-packages (from -r requirements.txt (line 13)) (4.62.3)\n",
            "Requirement already satisfied: tensorboard>=2.4.1 in /usr/local/lib/python3.7/dist-packages (from -r requirements.txt (line 16)) (2.7.0)\n",
            "Requirement already satisfied: pandas>=1.1.4 in /usr/local/lib/python3.7/dist-packages (from -r requirements.txt (line 20)) (1.1.5)\n",
            "Requirement already satisfied: seaborn>=0.11.0 in /usr/local/lib/python3.7/dist-packages (from -r requirements.txt (line 21)) (0.11.2)\n",
            "Collecting thop\n",
            "  Downloading thop-0.0.31.post2005241907-py3-none-any.whl (8.7 kB)\n",
            "Requirement already satisfied: cycler>=0.10 in /usr/local/lib/python3.7/dist-packages (from matplotlib>=3.2.2->-r requirements.txt (line 4)) (0.11.0)\n",
            "Requirement already satisfied: kiwisolver>=1.0.1 in /usr/local/lib/python3.7/dist-packages (from matplotlib>=3.2.2->-r requirements.txt (line 4)) (1.3.2)\n",
            "Requirement already satisfied: pyparsing!=2.0.4,!=2.1.2,!=2.1.6,>=2.0.1 in /usr/local/lib/python3.7/dist-packages (from matplotlib>=3.2.2->-r requirements.txt (line 4)) (3.0.6)\n",
            "Requirement already satisfied: python-dateutil>=2.1 in /usr/local/lib/python3.7/dist-packages (from matplotlib>=3.2.2->-r requirements.txt (line 4)) (2.8.2)\n",
            "Requirement already satisfied: urllib3!=1.25.0,!=1.25.1,<1.26,>=1.21.1 in /usr/local/lib/python3.7/dist-packages (from requests>=2.23.0->-r requirements.txt (line 9)) (1.24.3)\n",
            "Requirement already satisfied: idna<3,>=2.5 in /usr/local/lib/python3.7/dist-packages (from requests>=2.23.0->-r requirements.txt (line 9)) (2.10)\n",
            "Requirement already satisfied: chardet<4,>=3.0.2 in /usr/local/lib/python3.7/dist-packages (from requests>=2.23.0->-r requirements.txt (line 9)) (3.0.4)\n",
            "Requirement already satisfied: certifi>=2017.4.17 in /usr/local/lib/python3.7/dist-packages (from requests>=2.23.0->-r requirements.txt (line 9)) (2021.10.8)\n",
            "Requirement already satisfied: typing-extensions in /usr/local/lib/python3.7/dist-packages (from torch>=1.7.0->-r requirements.txt (line 11)) (3.10.0.2)\n",
            "Requirement already satisfied: tensorboard-data-server<0.7.0,>=0.6.0 in /usr/local/lib/python3.7/dist-packages (from tensorboard>=2.4.1->-r requirements.txt (line 16)) (0.6.1)\n",
            "Requirement already satisfied: absl-py>=0.4 in /usr/local/lib/python3.7/dist-packages (from tensorboard>=2.4.1->-r requirements.txt (line 16)) (0.12.0)\n",
            "Requirement already satisfied: protobuf>=3.6.0 in /usr/local/lib/python3.7/dist-packages (from tensorboard>=2.4.1->-r requirements.txt (line 16)) (3.17.3)\n",
            "Requirement already satisfied: werkzeug>=0.11.15 in /usr/local/lib/python3.7/dist-packages (from tensorboard>=2.4.1->-r requirements.txt (line 16)) (1.0.1)\n",
            "Requirement already satisfied: markdown>=2.6.8 in /usr/local/lib/python3.7/dist-packages (from tensorboard>=2.4.1->-r requirements.txt (line 16)) (3.3.6)\n",
            "Requirement already satisfied: tensorboard-plugin-wit>=1.6.0 in /usr/local/lib/python3.7/dist-packages (from tensorboard>=2.4.1->-r requirements.txt (line 16)) (1.8.0)\n",
            "Requirement already satisfied: grpcio>=1.24.3 in /usr/local/lib/python3.7/dist-packages (from tensorboard>=2.4.1->-r requirements.txt (line 16)) (1.42.0)\n",
            "Requirement already satisfied: google-auth<3,>=1.6.3 in /usr/local/lib/python3.7/dist-packages (from tensorboard>=2.4.1->-r requirements.txt (line 16)) (1.35.0)\n",
            "Requirement already satisfied: setuptools>=41.0.0 in /usr/local/lib/python3.7/dist-packages (from tensorboard>=2.4.1->-r requirements.txt (line 16)) (57.4.0)\n",
            "Requirement already satisfied: google-auth-oauthlib<0.5,>=0.4.1 in /usr/local/lib/python3.7/dist-packages (from tensorboard>=2.4.1->-r requirements.txt (line 16)) (0.4.6)\n",
            "Requirement already satisfied: wheel>=0.26 in /usr/local/lib/python3.7/dist-packages (from tensorboard>=2.4.1->-r requirements.txt (line 16)) (0.37.0)\n",
            "Requirement already satisfied: pytz>=2017.2 in /usr/local/lib/python3.7/dist-packages (from pandas>=1.1.4->-r requirements.txt (line 20)) (2018.9)\n",
            "Requirement already satisfied: six in /usr/local/lib/python3.7/dist-packages (from absl-py>=0.4->tensorboard>=2.4.1->-r requirements.txt (line 16)) (1.15.0)\n",
            "Requirement already satisfied: cachetools<5.0,>=2.0.0 in /usr/local/lib/python3.7/dist-packages (from google-auth<3,>=1.6.3->tensorboard>=2.4.1->-r requirements.txt (line 16)) (4.2.4)\n",
            "Requirement already satisfied: pyasn1-modules>=0.2.1 in /usr/local/lib/python3.7/dist-packages (from google-auth<3,>=1.6.3->tensorboard>=2.4.1->-r requirements.txt (line 16)) (0.2.8)\n",
            "Requirement already satisfied: rsa<5,>=3.1.4 in /usr/local/lib/python3.7/dist-packages (from google-auth<3,>=1.6.3->tensorboard>=2.4.1->-r requirements.txt (line 16)) (4.7.2)\n",
            "Requirement already satisfied: requests-oauthlib>=0.7.0 in /usr/local/lib/python3.7/dist-packages (from google-auth-oauthlib<0.5,>=0.4.1->tensorboard>=2.4.1->-r requirements.txt (line 16)) (1.3.0)\n",
            "Requirement already satisfied: importlib-metadata>=4.4 in /usr/local/lib/python3.7/dist-packages (from markdown>=2.6.8->tensorboard>=2.4.1->-r requirements.txt (line 16)) (4.8.2)\n",
            "Requirement already satisfied: zipp>=0.5 in /usr/local/lib/python3.7/dist-packages (from importlib-metadata>=4.4->markdown>=2.6.8->tensorboard>=2.4.1->-r requirements.txt (line 16)) (3.6.0)\n",
            "Requirement already satisfied: pyasn1<0.5.0,>=0.4.6 in /usr/local/lib/python3.7/dist-packages (from pyasn1-modules>=0.2.1->google-auth<3,>=1.6.3->tensorboard>=2.4.1->-r requirements.txt (line 16)) (0.4.8)\n",
            "Requirement already satisfied: oauthlib>=3.0.0 in /usr/local/lib/python3.7/dist-packages (from requests-oauthlib>=0.7.0->google-auth-oauthlib<0.5,>=0.4.1->tensorboard>=2.4.1->-r requirements.txt (line 16)) (3.1.1)\n",
            "Installing collected packages: thop, PyYAML\n",
            "  Attempting uninstall: PyYAML\n",
            "    Found existing installation: PyYAML 3.13\n",
            "    Uninstalling PyYAML-3.13:\n",
            "      Successfully uninstalled PyYAML-3.13\n",
            "Successfully installed PyYAML-6.0 thop-0.0.31.post2005241907\n"
          ]
        }
      ]
    },
    {
      "cell_type": "markdown",
      "metadata": {
        "id": "QszgMBPkXaRy"
      },
      "source": [
        "### Testing"
      ]
    },
    {
      "cell_type": "code",
      "metadata": {
        "colab": {
          "base_uri": "https://localhost:8080/"
        },
        "id": "T74ltdgkVSdS",
        "outputId": "f052cf05-7739-4379-ceff-2f92eb7ad9d5"
      },
      "source": [
        "%cd /content/yolov5\n",
        "!python detect.py --source /content/data/orand-car-with-bbs/test/images --weights /content/drive/MyDrive/image_processing/tarea2/runs/exp/weights/best.pt --conf 0.25 --save-txt"
      ],
      "execution_count": 12,
      "outputs": [
        {
          "output_type": "stream",
          "name": "stdout",
          "text": [
            "/content/yolov5\n",
            "Downloading https://ultralytics.com/assets/Arial.ttf to /root/.config/Ultralytics/Arial.ttf...\n",
            "\u001b[34m\u001b[1mdetect: \u001b[0mweights=['/content/drive/MyDrive/image_processing/tarea2/runs/exp/weights/best.pt'], source=/content/data/orand-car-with-bbs/test/images, imgsz=[640, 640], conf_thres=0.25, iou_thres=0.45, max_det=1000, device=, view_img=False, save_txt=True, save_conf=False, save_crop=False, nosave=False, classes=None, agnostic_nms=False, augment=False, visualize=False, update=False, project=runs/detect, name=exp, exist_ok=False, line_thickness=3, hide_labels=False, hide_conf=False, half=False, dnn=False\n",
            "YOLOv5 🚀 v6.0-104-gd1a00a3 torch 1.10.0+cu111 CUDA:0 (Tesla P100-PCIE-16GB, 16281MiB)\n",
            "\n",
            "Fusing layers... \n",
            "Model Summary: 213 layers, 7037095 parameters, 0 gradients, 15.9 GFLOPs\n",
            "image 1/463 /content/data/orand-car-with-bbs/test/images/handwritten_MX8900201925091235157_oQ4HtfShcU-BqOSjyAJ6Zg.bmp: 192x640 3 0s, 1 6, 1 8, Done. (0.010s)\n",
            "image 2/463 /content/data/orand-car-with-bbs/test/images/handwritten_MX8900201925091339247_k7Mofitc_EuA-kzxGZSyfQ.bmp: 128x640 4 0s, 1 2, 1 3, 1 4, Done. (0.011s)\n",
            "image 3/463 /content/data/orand-car-with-bbs/test/images/handwritten_MX8900201925091620292_MqEvCQPOsUWDNaRoxXooFw.bmp: 128x640 3 1s, 1 4, 1 6, Done. (0.006s)\n",
            "image 4/463 /content/data/orand-car-with-bbs/test/images/handwritten_MX8900201925091913069_VorbaTR5bka5NUxN-MHG6w.bmp: 160x640 1 0, 1 3, 1 5, 2 8s, Done. (0.010s)\n",
            "image 5/463 /content/data/orand-car-with-bbs/test/images/handwritten_MX8900201925092723403_ZlfZ0PrWLkKGHj52Bp4FgA.bmp: 160x640 4 0s, 3 3s, 1 7, Done. (0.007s)\n",
            "image 6/463 /content/data/orand-car-with-bbs/test/images/handwritten_MX8900201925093637024_maEnO1gFYEWnCyVkm4IPuQ.bmp: 96x640 3 1s, 1 4, 1 6, 1 8, Done. (0.010s)\n",
            "image 7/463 /content/data/orand-car-with-bbs/test/images/handwritten_MX8900201925094640819___HmkwYmX0CsSM2ozIJ8XA.bmp: 192x640 1 2, 1 3, 2 7s, 1 8, 1 9, Done. (0.007s)\n",
            "image 8/463 /content/data/orand-car-with-bbs/test/images/handwritten_MX8900201925100650223_YucCDH01C0eBvI2ZnjqksA.bmp: 160x640 1 2, 1 5, 2 6s, 1 8, Done. (0.007s)\n",
            "image 9/463 /content/data/orand-car-with-bbs/test/images/handwritten_MX8900201925101230280_VZ4L7gjwtkGgwMxhI3ti-g.bmp: 224x640 2 0s, 1 2, 2 3s, Done. (0.009s)\n",
            "image 10/463 /content/data/orand-car-with-bbs/test/images/handwritten_MX8900201925104155180_j0FDp3tH2UOw4cHI2Uflcg.bmp: 96x640 7 0s, 1 1, 1 8, Done. (0.007s)\n",
            "image 11/463 /content/data/orand-car-with-bbs/test/images/handwritten_MX8900201925104800085_MtmJYFhs3UusYYURSXyhXQ.bmp: 224x640 1 0, 1 2, 1 3, 1 6, 2 7s, Done. (0.007s)\n",
            "image 12/463 /content/data/orand-car-with-bbs/test/images/handwritten_MX8900201925112219747_hs9H3zPtDE6WFYXy5G7Bsw.bmp: 128x640 1 1, 2 2s, 1 4, 1 8, Done. (0.007s)\n",
            "image 13/463 /content/data/orand-car-with-bbs/test/images/handwritten_MX8900201925112411473_K40fkrbF20aSFCg_nPPuWw.bmp: 64x640 1 0, 1 1, 1 2, 1 4, 1 6, 1 8, Done. (0.010s)\n",
            "image 14/463 /content/data/orand-car-with-bbs/test/images/handwritten_MX8900201925113746925_HuxESXnpwkSNkh2W_FEdIw.bmp: 160x640 1 0, 2 3s, 1 7, 1 9, Done. (0.007s)\n",
            "image 15/463 /content/data/orand-car-with-bbs/test/images/handwritten_MX8900201925114655863_rQ_f_LLfikKSGsbWofZ7wg.bmp: 160x640 4 0s, 1 5, Done. (0.006s)\n",
            "image 16/463 /content/data/orand-car-with-bbs/test/images/handwritten_MX8900201925120227516__a_XpKAs9kyRkDsPfjGHXw.bmp: 96x640 6 0s, 1 1, 1 6, Done. (0.007s)\n",
            "image 17/463 /content/data/orand-car-with-bbs/test/images/handwritten_MX8900201925120313898_91WL0JK2oEqFaS0Y2gk-pQ.bmp: 96x640 2 0s, 1 3, 1 4, 1 8, 2 9s, Done. (0.006s)\n",
            "image 18/463 /content/data/orand-car-with-bbs/test/images/handwritten_MX8900201925121334183_iQUTXLD980u5neP6YnsNxg.bmp: 224x640 3 0s, 2 5s, 1 9, Done. (0.007s)\n",
            "image 19/463 /content/data/orand-car-with-bbs/test/images/handwritten_MX8900201925133946306_tlv_Yb63UESWbJN79_k7qQ.bmp: 224x640 1 0, 1 4, 2 7s, 1 9, Done. (0.006s)\n",
            "image 20/463 /content/data/orand-car-with-bbs/test/images/handwritten_MX8900201925134717381_3GQKEYRKo0GWJGYyz_dG4A.bmp: 160x640 1 0, 4 1s, 1 4, 1 6, Done. (0.007s)\n",
            "image 21/463 /content/data/orand-car-with-bbs/test/images/handwritten_MX8900201925134905317_Ix9gysxkTkyEi9LgdAuVWA.bmp: 192x640 1 0, 1 1, 1 2, 2 9s, Done. (0.007s)\n",
            "image 22/463 /content/data/orand-car-with-bbs/test/images/handwritten_MX8900201925135048187_SNDmcIi4nkiEQpI1jsOm5A.bmp: 128x640 2 5s, 1 7, 3 8s, 2 9s, Done. (0.008s)\n",
            "image 23/463 /content/data/orand-car-with-bbs/test/images/handwritten_MX8900201925135336946_WHQnzSdneE2JpUHGfEfAEw.bmp: 160x640 1 1, 1 2, 1 3, 1 4, 1 5, 1 8, 1 9, Done. (0.008s)\n",
            "image 24/463 /content/data/orand-car-with-bbs/test/images/handwritten_MX8900201925135523922_ETMo1KZmg0iNcUfr7pgjiA.bmp: 192x640 1 0, 1 2, 1 4, 1 6, 1 7, Done. (0.007s)\n",
            "image 25/463 /content/data/orand-car-with-bbs/test/images/handwritten_MX8900201925135704090_LnLZlAIqWkmjKDWlI1IFhQ.bmp: 96x640 1 1, 1 3, 1 5, 1 6, 1 7, 1 9, Done. (0.008s)\n",
            "image 26/463 /content/data/orand-car-with-bbs/test/images/handwritten_MX8900201925135845428_JQYd52sY8kOAI2CiRb0pVw.bmp: 160x640 1 0, 1 2, 1 4, 1 6, 1 7, Done. (0.008s)\n",
            "image 27/463 /content/data/orand-car-with-bbs/test/images/handwritten_MX8900201925140017664_OTUUoyeFv0uhGMPafo7f6w.bmp: 128x640 2 1s, 1 2, 2 4s, 1 5, 1 9, Done. (0.008s)\n",
            "image 28/463 /content/data/orand-car-with-bbs/test/images/handwritten_MX8900201925140140206_qJk6O6HSvEGvdiovzID0Yg.bmp: 128x640 1 1, 1 2, 2 4s, 2 6s, 1 9, Done. (0.007s)\n",
            "image 29/463 /content/data/orand-car-with-bbs/test/images/handwritten_MX8900201928115621018_yOkNd0J2H0ytHiDOa4Wi7g.bmp: 160x640 4 0s, 1 1, 1 8, Done. (0.007s)\n",
            "image 30/463 /content/data/orand-car-with-bbs/test/images/handwritten_MX8900201928120446981_0D1DlGd3LEKwor9UrVqN1w.bmp: 224x640 3 0s, 1 1, Done. (0.007s)\n",
            "image 31/463 /content/data/orand-car-with-bbs/test/images/handwritten_MX8900201928120627029_Sj3-VyxIik-uuwxJ-alVIg.bmp: 192x640 3 0s, 1 1, Done. (0.007s)\n",
            "image 32/463 /content/data/orand-car-with-bbs/test/images/handwritten_MX8900201928120759849_tR0Q02YXtEaSxtpckNJwHQ.bmp: 192x640 3 0s, 1 1, Done. (0.006s)\n",
            "image 33/463 /content/data/orand-car-with-bbs/test/images/handwritten_MX8900201928120935775_0IkeqmNEykyrAuZcPUcOuQ.bmp: 224x640 3 0s, 1 1, Done. (0.007s)\n",
            "image 34/463 /content/data/orand-car-with-bbs/test/images/handwritten_MX8900201928121326588_jVGjH0VqXUiCf8iF0l8T7g.bmp: 192x640 4 0s, 1 7, Done. (0.007s)\n",
            "image 35/463 /content/data/orand-car-with-bbs/test/images/handwritten_MX8900201928122641729_rqYDtM1cEUyGmpaHzDcglg.bmp: 192x640 5 0s, 1 6, Done. (0.006s)\n",
            "image 36/463 /content/data/orand-car-with-bbs/test/images/handwritten_MX8900201928124143356_Za1V3QKkS0m3Wh8xlwLUiw.bmp: 224x640 1 0, 1 1, 1 4, 2 6s, Done. (0.007s)\n",
            "image 37/463 /content/data/orand-car-with-bbs/test/images/handwritten_MX8900201928132706003_u_KrwLzaZES8i1sJNC6uxg.bmp: 96x640 1 0, 1 1, 1 2, 1 4, 1 7, 2 8s, Done. (0.007s)\n",
            "image 38/463 /content/data/orand-car-with-bbs/test/images/handwritten_MX8900201928132751330_uD0uXvTIKU2KHxGjjXPVtw.bmp: 128x640 2 0s, 1 1, 1 2, 1 4, 1 5, Done. (0.008s)\n",
            "image 39/463 /content/data/orand-car-with-bbs/test/images/handwritten_MX8900201928132926711_iZVVdaPTiE2HkNLaoopo8A.bmp: 96x640 4 0s, 1 1, 1 2, 1 5, Done. (0.007s)\n",
            "image 40/463 /content/data/orand-car-with-bbs/test/images/handwritten_MX8900201928133122349_eWJQ5NotukSJzuKxTcge0A.bmp: 96x640 4 0s, 1 1, 1 2, 1 5, Done. (0.006s)\n",
            "image 41/463 /content/data/orand-car-with-bbs/test/images/handwritten_MX8900201928133309746_hffNUrjGzEKFoNoNh1aOfA.bmp: 160x640 3 1s, 2 6s, 1 9, Done. (0.007s)\n",
            "image 42/463 /content/data/orand-car-with-bbs/test/images/handwritten_MX8900201928134410709_kG6aTtfJ2UqshvxolTsM-g.bmp: 160x640 3 0s, 2 3s, Done. (0.006s)\n",
            "image 43/463 /content/data/orand-car-with-bbs/test/images/handwritten_MX8900201928134842608_PPaPntHhgU2ewQuKppKMIg.bmp: 128x640 4 0s, 2 5s, Done. (0.007s)\n",
            "image 44/463 /content/data/orand-car-with-bbs/test/images/handwritten_MX8900201928145538674_mONbHGkQZE2hYeygW72IcQ.bmp: 128x640 3 0s, 1 1, 1 8, Done. (0.007s)\n",
            "image 45/463 /content/data/orand-car-with-bbs/test/images/handwritten_MX8900201928145933704_oIv5y94uM0-vHb8fpVqyuA.bmp: 224x640 2 0s, 1 1, 2 4s, 1 9, Done. (0.007s)\n",
            "image 46/463 /content/data/orand-car-with-bbs/test/images/handwritten_MX8900201928161603176_6JZiGzMZB0-m7T8FoqSyeg.bmp: 224x640 3 0s, 1 1, Done. (0.006s)\n",
            "image 47/463 /content/data/orand-car-with-bbs/test/images/handwritten_MX8900201929095424067_OHhz3QntskmytsSDYRaLQw.bmp: 64x640 1 0, 3 4s, 1 6, 1 8, 1 9, Done. (0.007s)\n",
            "image 48/463 /content/data/orand-car-with-bbs/test/images/handwritten_MX8900201929100044778_GZf17teOrkCYZkUeF_Whbg.bmp: 224x640 3 0s, 1 1, Done. (0.007s)\n",
            "image 49/463 /content/data/orand-car-with-bbs/test/images/handwritten_MX8900201929100209564_0lxrdy_OPUKUUDS17gwHlA.bmp: 224x640 3 0s, 1 1, Done. (0.009s)\n",
            "image 50/463 /content/data/orand-car-with-bbs/test/images/handwritten_MX8900201929103341111_4pJbUUUzOEScYhoz1ljM1A.bmp: 96x640 1 0, 1 1, 2 2s, 1 5, 1 8, Done. (0.009s)\n",
            "image 51/463 /content/data/orand-car-with-bbs/test/images/handwritten_MX8900201929104133810__imE0Yg7sUqOHvQxkSGe0g.bmp: 96x640 6 0s, 1 5, Done. (0.006s)\n",
            "image 52/463 /content/data/orand-car-with-bbs/test/images/handwritten_MX8900201929111824027_knqeavnCfU21HIUDF51EJw.bmp: 192x640 1 0, 1 1, 2 3s, 2 6s, Done. (0.007s)\n",
            "image 53/463 /content/data/orand-car-with-bbs/test/images/handwritten_MX8900201929112530866_iS4-it6QMkWfGXk2kvUcaA.bmp: 96x640 1 0, 2 1s, 2 6s, 1 7, Done. (0.007s)\n",
            "image 54/463 /content/data/orand-car-with-bbs/test/images/handwritten_MX8900201929114456039_9RG10Tiah0uHfZjYq4OaWw.bmp: 224x640 2 0s, 1 2, 1 3, 1 7, Done. (0.007s)\n",
            "image 55/463 /content/data/orand-car-with-bbs/test/images/handwritten_MX8900201929130646814_fgSgKXKoGkWq8rXbufIgpQ.bmp: 128x640 2 0s, 1 2, 1 4, 1 5, 1 7, 1 9, Done. (0.007s)\n",
            "image 56/463 /content/data/orand-car-with-bbs/test/images/handwritten_MX8900201929130700073_vw7DBdF6PEGwdCCH8V5WkA.bmp: 192x640 3 0s, 1 1, 1 2, Done. (0.007s)\n",
            "image 57/463 /content/data/orand-car-with-bbs/test/images/handwritten_MX8900201929130754802_3UQGMYVFj0iPmdfxPvLcpg.bmp: 64x640 2 0s, 1 1, 1 2, 1 5, 2 8s, 1 9, Done. (0.007s)\n",
            "image 58/463 /content/data/orand-car-with-bbs/test/images/handwritten_MX8900201929131124403_cT0Te1008E2mUQ-qMRRoAw.bmp: 96x640 1 0, 1 1, 1 2, 1 5, 1 6, 1 7, Done. (0.007s)\n",
            "image 59/463 /content/data/orand-car-with-bbs/test/images/handwritten_MX8900201929131150723_OOBn7qgMWkCupNzrmftNGQ.bmp: 160x640 4 2s, 1 6, 1 7, 1 8, Done. (0.009s)\n",
            "image 60/463 /content/data/orand-car-with-bbs/test/images/handwritten_MX8900201929131430041_ADI_JAVGUUSwdZ9qNg263w.bmp: 64x640 1 0, 1 1, 1 2, 2 5s, 1 6, 1 7, Done. (0.007s)\n",
            "image 61/463 /content/data/orand-car-with-bbs/test/images/handwritten_MX8900201929131437887_-fLhlbaBS0uBL7omNkvc8A.bmp: 160x640 4 2s, 1 6, 1 7, 1 8, Done. (0.007s)\n",
            "image 62/463 /content/data/orand-car-with-bbs/test/images/handwritten_MX8900201929131634669_vMKjgUh3fki76H49ZDHIAQ.bmp: 128x640 1 0, 2 3s, 1 5, 2 6s, Done. (0.007s)\n",
            "image 63/463 /content/data/orand-car-with-bbs/test/images/handwritten_MX8900201929131642224_WLy674mzk02Vqd4wTrzVJw.bmp: 64x640 1 0, 1 3, 1 4, 1 8, 1 9, Done. (0.007s)\n",
            "image 64/463 /content/data/orand-car-with-bbs/test/images/handwritten_MX8900201929131813350_XR6ZtMhhYE6nG54oiwwRwg.bmp: 128x640 1 0, 1 2, 2 3s, 1 5, 2 6s, Done. (0.007s)\n",
            "image 65/463 /content/data/orand-car-with-bbs/test/images/handwritten_MX8900201929132205754_dT9cP5FZ7kqGvWfdFkZIZg.bmp: 192x640 3 0s, 1 1, Done. (0.007s)\n",
            "image 66/463 /content/data/orand-car-with-bbs/test/images/handwritten_MX8900201929132428282_ur5NcuGOKkO3D-p1mt5-HQ.bmp: 224x640 3 0s, 1 1, Done. (0.007s)\n",
            "image 67/463 /content/data/orand-car-with-bbs/test/images/handwritten_MX8900201929133413425_9f0W7uMYukiVzff_cpL-EQ.bmp: 64x640 2 0s, 1 2, 2 4s, Done. (0.007s)\n",
            "image 68/463 /content/data/orand-car-with-bbs/test/images/handwritten_MX8900201929133610845_HBA_vq0xO06OgaOUdIiA9w.bmp: 64x640 2 0s, 1 2, 2 4s, Done. (0.006s)\n",
            "image 69/463 /content/data/orand-car-with-bbs/test/images/handwritten_MX8900201929133839841_vhNobRrg6Uq6-B73VaFBVQ.bmp: 64x640 2 0s, 1 2, 2 4s, Done. (0.006s)\n",
            "image 70/463 /content/data/orand-car-with-bbs/test/images/handwritten_MX8900201929133930890_01CIfLpADk6ZjGtjom-JZA.bmp: 192x640 2 0s, 1 2, 2 3s, Done. (0.007s)\n",
            "image 71/463 /content/data/orand-car-with-bbs/test/images/handwritten_MX8900201929134039419_ChdlZIPRlkyGNe0zF8uu8A.bmp: 128x640 2 0s, 1 2, 1 4, 1 5, 2 8s, Done. (0.007s)\n",
            "image 72/463 /content/data/orand-car-with-bbs/test/images/handwritten_MX8900201929134233440_iiqGM14mxEK_12bCNUtkTQ.bmp: 128x640 1 0, 1 1, 1 3, 1 5, 1 8, 1 9, Done. (0.006s)\n",
            "image 73/463 /content/data/orand-car-with-bbs/test/images/handwritten_MX8900201929134422584_hr0EZp-TI06kLtFXlRKK7A.bmp: 128x640 1 0, 1 1, 1 3, 1 5, 1 8, 1 9, Done. (0.006s)\n",
            "image 74/463 /content/data/orand-car-with-bbs/test/images/handwritten_MX8900201929134822150_rrrFOBWbdkCPBgCliV8ZLg.bmp: 192x640 3 0s, 1 1, Done. (0.007s)\n",
            "image 75/463 /content/data/orand-car-with-bbs/test/images/handwritten_MX8900201929143547518_-IuhOFVW40OdXr_jx1XEOw.bmp: 224x640 3 0s, 1 1, Done. (0.008s)\n",
            "image 76/463 /content/data/orand-car-with-bbs/test/images/handwritten_MX8900201929143903160_nt1S5P1WeESxmvtzXSbo6A.bmp: 224x640 3 0s, 1 1, Done. (0.006s)\n",
            "image 77/463 /content/data/orand-car-with-bbs/test/images/handwritten_MX8900201929144236015_dfIHqmD_TEecYoD0n9yjFQ.bmp: 224x640 3 0s, 1 1, Done. (0.006s)\n",
            "image 78/463 /content/data/orand-car-with-bbs/test/images/handwritten_MX8900201929144430823_5bKWytnCRUSk17H6zkNCYQ.bmp: 224x640 3 0s, 1 1, Done. (0.006s)\n",
            "image 79/463 /content/data/orand-car-with-bbs/test/images/handwritten_MX8900201929144739136_LDrNI6ICBkOyd35oFKL33A.bmp: 224x640 3 0s, 1 1, Done. (0.007s)\n",
            "image 80/463 /content/data/orand-car-with-bbs/test/images/handwritten_MX8900201929144903941_D88jAL5ftkSET18EOv0eIg.bmp: 192x640 3 0s, 1 1, Done. (0.007s)\n",
            "image 81/463 /content/data/orand-car-with-bbs/test/images/handwritten_MX8900201929152528067_K01ijS5akkWGum-4jvTyNg.bmp: 192x640 4 0s, 1 6, Done. (0.006s)\n",
            "image 82/463 /content/data/orand-car-with-bbs/test/images/handwritten_MX8900201929154932279_bZ7t1Gfa1k2uWnbjVmA84g.bmp: 224x640 3 0s, 1 1, Done. (0.008s)\n",
            "image 83/463 /content/data/orand-car-with-bbs/test/images/handwritten_MX8900201929155110141_Z1Mnz0VBzUqInIVcc5RB9Q.bmp: 192x640 3 0s, 1 1, Done. (0.007s)\n",
            "image 84/463 /content/data/orand-car-with-bbs/test/images/handwritten_MX8900201929161354736_fvD06AHLLUOoDk1gtHkSfw.bmp: 192x640 3 0s, 1 1, Done. (0.006s)\n",
            "image 85/463 /content/data/orand-car-with-bbs/test/images/handwritten_MX8900201929161524115_ZplCOnDNvEmYmeJd_79ELA.bmp: 224x640 3 0s, 1 1, Done. (0.007s)\n",
            "image 86/463 /content/data/orand-car-with-bbs/test/images/handwritten_MX8900201929162747960_qu9OGS0s0kG3cBvxIiqV4g.bmp: 192x640 3 0s, 1 1, Done. (0.007s)\n",
            "image 87/463 /content/data/orand-car-with-bbs/test/images/handwritten_MX8900201929171312796_dcK4Q4d3AEGVz9NPWSyrLg.bmp: 192x640 3 0s, 1 1, Done. (0.006s)\n",
            "image 88/463 /content/data/orand-car-with-bbs/test/images/handwritten_MX8900201929171452843_wZrK9lSITE6y325K545bAg.bmp: 192x640 3 0s, 1 1, Done. (0.006s)\n",
            "image 89/463 /content/data/orand-car-with-bbs/test/images/handwritten_MX8900201929173759275_gkYiFsglE024nHltlv5zBQ.bmp: 96x640 3 0s, 1 1, 1 2, 1 3, 1 6, 1 8, 1 9, Done. (0.007s)\n",
            "image 90/463 /content/data/orand-car-with-bbs/test/images/handwritten_MX8900201930085351549_ikSm-3dtjUaPhCThUv7Xuw.bmp: 192x640 3 0s, 1 1, Done. (0.007s)\n",
            "image 91/463 /content/data/orand-car-with-bbs/test/images/handwritten_MX8900201930085522572_Uwjr5yiTmEq6DfkdMtIS1g.bmp: 224x640 3 0s, 1 1, Done. (0.007s)\n",
            "image 92/463 /content/data/orand-car-with-bbs/test/images/handwritten_MX8900201930091018659_dYlXgEK9x0yFmhkdPwmEPw.bmp: 96x640 5 0s, 1 3, 1 7, Done. (0.007s)\n",
            "image 93/463 /content/data/orand-car-with-bbs/test/images/handwritten_MX8900201930091122769_SXxku6z3PUy4IJG3AYzdbA.bmp: 160x640 1 2, 1 4, 1 7, 2 8s, 2 9s, Done. (0.007s)\n",
            "image 94/463 /content/data/orand-car-with-bbs/test/images/handwritten_MX8900201930091202853_7su27l-4pkOBBR330eiPSw.bmp: 96x640 5 0s, 1 3, 1 7, Done. (0.007s)\n",
            "image 95/463 /content/data/orand-car-with-bbs/test/images/handwritten_MX8900201930092412942_nGbnoAJt60ykbJdGIdJC5g.bmp: 96x640 5 0s, 1 5, Done. (0.006s)\n",
            "image 96/463 /content/data/orand-car-with-bbs/test/images/handwritten_MX8900201930092558904_iFtOdFcK-Uyp_Q4eoCtCTw.bmp: 96x640 5 0s, 1 5, Done. (0.006s)\n",
            "image 97/463 /content/data/orand-car-with-bbs/test/images/handwritten_MX8900201930092830633_OkVgRQghdEGKNjxBbUttHg.bmp: 192x640 3 0s, 1 1, Done. (0.007s)\n",
            "image 98/463 /content/data/orand-car-with-bbs/test/images/handwritten_MX8900201930093501835_DOVpXR99IkSp0BBuYHKhSg.bmp: 160x640 1 2, 2 5s, 1 6, 1 7, 1 8, Done. (0.007s)\n",
            "image 99/463 /content/data/orand-car-with-bbs/test/images/handwritten_MX8900201930093714947_CH6FRMIIl0mBxrCeLvnUIw.bmp: 128x640 3 5s, 1 7, 1 8, Done. (0.007s)\n",
            "image 100/463 /content/data/orand-car-with-bbs/test/images/handwritten_MX8900201930093924263_EBXnjnNJl02RLmzOEQ8_dA.bmp: 160x640 2 0s, 1 3, 1 4, 1 5, 2 8s, Done. (0.007s)\n",
            "image 101/463 /content/data/orand-car-with-bbs/test/images/handwritten_MX8900201930094057570_gbb2ihfdTkuqwONjfTOzwg.bmp: 256x640 1 1, 1 3, 1 7, 2 9s, Done. (0.010s)\n",
            "image 102/463 /content/data/orand-car-with-bbs/test/images/handwritten_MX8900201930094210408_GOEVqdCgp0iTow1Gaa5DKA.bmp: 256x640 1 1, 1 3, 1 7, 3 9s, Done. (0.006s)\n",
            "image 103/463 /content/data/orand-car-with-bbs/test/images/handwritten_MX8900201930105236308_YJ9aWnbFL0ayIV50ObVduA.bmp: 160x640 4 0s, 1 9, Done. (0.007s)\n",
            "image 104/463 /content/data/orand-car-with-bbs/test/images/handwritten_MX8900201930113943558_4tej0RrVEU-DBI8fMAGUqw.bmp: 128x640 1 0, 1 1, 2 4s, 1 5, 1 7, 1 9, Done. (0.007s)\n",
            "image 105/463 /content/data/orand-car-with-bbs/test/images/handwritten_MX8900201930114614551_SAZQcQqeg0u7_JkyFLCMyQ.bmp: 160x640 1 0, 1 1, 1 2, 1 6, 1 8, 1 9, Done. (0.007s)\n",
            "image 106/463 /content/data/orand-car-with-bbs/test/images/handwritten_MX8900201930114824711_Q04IgcUtFUuG5r0ijvakxA.bmp: 224x640 3 0s, 1 1, Done. (0.007s)\n",
            "image 107/463 /content/data/orand-car-with-bbs/test/images/handwritten_MX8900201930120104564_F-rWdl53cEKqHlBN9roWGg.bmp: 96x640 6 0s, 1 7, Done. (0.007s)\n",
            "image 108/463 /content/data/orand-car-with-bbs/test/images/handwritten_MX8900201930120616821_B-o3V1KHHU-lXIg7gOg4yw.bmp: 128x640 6 0s, 1 7, Done. (0.007s)\n",
            "image 109/463 /content/data/orand-car-with-bbs/test/images/handwritten_MX8900201930121016399_OHdtO1VUlE6Td7vkaXKeoQ.bmp: 256x640 2 0s, 1 1, 1 5, 1 6, Done. (0.007s)\n",
            "image 110/463 /content/data/orand-car-with-bbs/test/images/handwritten_MX8900201930122520181_MoW_j-iAtU2P-rGm7ScsJA.bmp: 160x640 6 0s, 1 5, Done. (0.007s)\n",
            "image 111/463 /content/data/orand-car-with-bbs/test/images/handwritten_MX8900201930122629513_IZ2oM7eXcUW1EdI0uE0skw.bmp: 160x640 1 0, 3 4s, 1 7, 2 8s, Done. (0.006s)\n",
            "image 112/463 /content/data/orand-car-with-bbs/test/images/handwritten_MX8900201930123836494_iYwFaAHOf0uN6N_jeaU6fg.bmp: 128x640 1 0, 2 1s, 1 6, 1 7, 1 8, Done. (0.007s)\n",
            "image 113/463 /content/data/orand-car-with-bbs/test/images/handwritten_MX8900201930124446496_OF4dTiapZkum6pN5A6bElA.bmp: 96x640 1 1, 1 3, 2 4s, 2 7s, Done. (0.007s)\n",
            "image 114/463 /content/data/orand-car-with-bbs/test/images/handwritten_MX8900201930124642965_39FFZWYXSUSTOBGn-WkE2A.bmp: 224x640 1 0, 1 1, 1 2, 2 3s, 1 6, Done. (0.007s)\n",
            "image 115/463 /content/data/orand-car-with-bbs/test/images/handwritten_MX8900201930124754909_Ic5-S1bAxEGqnQY0cBQIng.bmp: 256x640 1 1, 1 7, 2 8s, 2 9s, Done. (0.007s)\n",
            "image 116/463 /content/data/orand-car-with-bbs/test/images/handwritten_MX8900201930124900917_E4tcKAUf1UasNP4sykrX6g.bmp: 192x640 1 1, 1 3, 1 4, 1 6, 2 8s, 1 9, Done. (0.007s)\n",
            "image 117/463 /content/data/orand-car-with-bbs/test/images/handwritten_MX8900201930125010467_uRZ4dZc2RkWC7dcuXUQttQ.bmp: 128x640 1 1, 1 2, 1 3, 2 5s, 1 9, Done. (0.007s)\n",
            "image 118/463 /content/data/orand-car-with-bbs/test/images/handwritten_MX8900201930125121613_omKY_OnBOESdmr35W4efEQ.bmp: 160x640 2 1s, 3 2s, 1 9, Done. (0.007s)\n",
            "image 119/463 /content/data/orand-car-with-bbs/test/images/handwritten_MX8900201930125348217_7IsBBHsTvUSUK1kmfCRDJg.bmp: 160x640 2 1s, 3 2s, 1 9, Done. (0.006s)\n",
            "image 120/463 /content/data/orand-car-with-bbs/test/images/handwritten_MX8900201930125427579_Z9cLqmFcMEO8DmWEn-x4yA.bmp: 192x640 3 0s, 1 3, 1 5, Done. (0.007s)\n",
            "image 121/463 /content/data/orand-car-with-bbs/test/images/handwritten_MX8900201930130129028_XRSLUQftb0CdsOyfV8kEKQ.bmp: 192x640 1 1, 1 3, 1 4, 1 5, 1 6, Done. (0.006s)\n",
            "image 122/463 /content/data/orand-car-with-bbs/test/images/handwritten_MX8900201930130318676_p54qxH7z4keL4BamW43MPA.bmp: 128x640 2 0s, 1 1, 1 2, 1 4, 2 6s, Done. (0.007s)\n",
            "image 123/463 /content/data/orand-car-with-bbs/test/images/handwritten_MX8900201930130843528_bzYbfbUD4k6VhB-W0v9eLA.bmp: 160x640 1 1, 2 4s, 1 5, 2 6s, 1 7, Done. (0.007s)\n",
            "image 124/463 /content/data/orand-car-with-bbs/test/images/handwritten_MX8900201930131124499_CZvcJDGlQEmsv1vhrIOohw.bmp: 128x640 4 0s, 1 1, 1 9, Done. (0.007s)\n",
            "image 125/463 /content/data/orand-car-with-bbs/test/images/handwritten_MX8900201930133008614_u88CaA-wFkiCILFn4Mtbbw.bmp: 128x640 6 0s, 1 2, Done. (0.006s)\n",
            "image 126/463 /content/data/orand-car-with-bbs/test/images/handwritten_MX8900201930133447922_1m9pGFE-E0m8MJXRTfRQUw.bmp: 192x640 1 6, 2 7s, 1 8, 1 9, Done. (0.007s)\n",
            "image 127/463 /content/data/orand-car-with-bbs/test/images/handwritten_MX8900201930134400578_qiUYlL1AS0iWyYxLsk4utw.bmp: 160x640 1 4, 1 6, 2 8s, 2 9s, Done. (0.007s)\n",
            "image 128/463 /content/data/orand-car-with-bbs/test/images/handwritten_MX8900201930134522798_g_b2Rq-mfEWREYmvQBj_Ag.bmp: 160x640 1 1, 1 3, 1 6, 1 7, 1 8, 1 9, Done. (0.006s)\n",
            "image 129/463 /content/data/orand-car-with-bbs/test/images/handwritten_MX8900201930134657492_Yz74qsqvq0CCmZYH-7WPcA.bmp: 160x640 2 1s, 2 3s, 1 8, Done. (0.006s)\n",
            "image 130/463 /content/data/orand-car-with-bbs/test/images/handwritten_MX8900201930154951378_NJcC4iDeYU24_BEO_cvbvw.bmp: 128x640 1 1, 2 2s, 1 6, 1 8, Done. (0.007s)\n",
            "image 131/463 /content/data/orand-car-with-bbs/test/images/handwritten_MX8900201931083743136_nxePKE6aFU2gs5xNC4-rCA.bmp: 192x640 3 0s, 1 1, Done. (0.007s)\n",
            "image 132/463 /content/data/orand-car-with-bbs/test/images/handwritten_MX8900201931083902326_yGAUbzWzTkOdXpVDVdp4xQ.bmp: 192x640 3 0s, 1 1, Done. (0.006s)\n",
            "image 133/463 /content/data/orand-car-with-bbs/test/images/handwritten_MX8900201931085730025_FigxLlzPCE6-O0Bu32g4-A.bmp: 192x640 3 0s, 1 1, Done. (0.006s)\n",
            "image 134/463 /content/data/orand-car-with-bbs/test/images/handwritten_MX8900201931093041979_Nkc3Q-rfn0aHOt9NrbHFuw.bmp: 96x640 2 0s, 1 1, 1 2, 1 5, 2 8s, 1 9, Done. (0.007s)\n",
            "image 135/463 /content/data/orand-car-with-bbs/test/images/handwritten_MX8900201931095859162_oAN7UG5eh0W1i7i_8n3ytQ.bmp: 160x640 2 2s, 1 4, 1 5, 1 8, 1 9, Done. (0.007s)\n",
            "image 136/463 /content/data/orand-car-with-bbs/test/images/handwritten_MX8900201931100016976__LuSPVMn5EOyZ512a9Mfmg.bmp: 128x640 1 1, 1 2, 1 3, 1 5, 1 6, 1 7, Done. (0.007s)\n",
            "image 137/463 /content/data/orand-car-with-bbs/test/images/handwritten_MX8900201931100146890_26cFu3E3n02A6Kr5e6mvyA.bmp: 128x640 1 2, 1 3, 2 6s, 1 7, 3 8s, Done. (0.006s)\n",
            "image 138/463 /content/data/orand-car-with-bbs/test/images/handwritten_MX8900201931100754033_UmnOINBubEaGVZMhwfN43g.bmp: 96x640 1 0, 1 1, 1 3, 2 5s, 1 6, 1 9, Done. (0.007s)\n",
            "image 139/463 /content/data/orand-car-with-bbs/test/images/handwritten_MX8900201931101126997_d9L4oK92EU6ZNQZMWCt1Nw.bmp: 96x640 6 0s, 1 5, 1 8, 1 9, Done. (0.008s)\n",
            "image 140/463 /content/data/orand-car-with-bbs/test/images/handwritten_MX8900201931101309950_2er-2SIIi0mynh9tIEUxWA.bmp: 128x640 3 0s, 1 2, 1 5, Done. (0.007s)\n",
            "image 141/463 /content/data/orand-car-with-bbs/test/images/handwritten_MX8900201931101909446_7_VAbI3Qo0KIr85iaEqtTg.bmp: 160x640 2 0s, 2 1s, 1 7, 1 9, Done. (0.007s)\n",
            "image 142/463 /content/data/orand-car-with-bbs/test/images/handwritten_MX8900201931102638771_5RxDNeGgoUGxPAvNKCen6A.bmp: 160x640 2 0s, 2 1s, 1 3, 1 5, Done. (0.006s)\n",
            "image 143/463 /content/data/orand-car-with-bbs/test/images/handwritten_MX8900201931102803441_9LModSZfKkWcV1M2RHFgcA.bmp: 160x640 2 0s, 1 1, 1 4, 1 7, 1 9, Done. (0.006s)\n",
            "image 144/463 /content/data/orand-car-with-bbs/test/images/handwritten_MX8900201931102913631_js8mwZjCREOjTJnxTSmdPw.bmp: 192x640 2 0s, 2 3s, 1 8, Done. (0.007s)\n",
            "image 145/463 /content/data/orand-car-with-bbs/test/images/handwritten_MX8900201931103550229_IagSwPBYIkuHPmLsilgy4w.bmp: 192x640 1 3, 2 5s, 3 8s, 1 9, Done. (0.006s)\n",
            "image 146/463 /content/data/orand-car-with-bbs/test/images/handwritten_MX8900201931104031752_I9nEf3PtYEiTng2NNL0fKA.bmp: 160x640 2 2s, 1 5, 1 8, 1 9, Done. (0.007s)\n",
            "image 147/463 /content/data/orand-car-with-bbs/test/images/handwritten_MX8900201931104418882_kYmLECNfh0Gbzj7cdLHiLw.bmp: 96x640 3 0s, 2 1s, 1 2, Done. (0.007s)\n",
            "image 148/463 /content/data/orand-car-with-bbs/test/images/handwritten_MX8900201931105442245_VjyfjaHmDU2SIqZdLQuDxA.bmp: 96x640 5 0s, 1 3, 1 5, Done. (0.006s)\n",
            "image 149/463 /content/data/orand-car-with-bbs/test/images/handwritten_MX8900201931105649765_8jAYoDFow0aCWKDxyyPS2A.bmp: 192x640 1 1, 1 2, 1 4, 1 5, 1 8, 1 9, Done. (0.007s)\n",
            "image 150/463 /content/data/orand-car-with-bbs/test/images/handwritten_MX8900201931105719120_wVx-3juCuUuQYJAiNlHhpw.bmp: 128x640 1 0, 1 3, 1 4, 1 5, 1 7, 1 8, Done. (0.007s)\n",
            "image 151/463 /content/data/orand-car-with-bbs/test/images/handwritten_MX8900201931110116282_Bpf4rlnGn0y4F21y4RTnkg.bmp: 96x640 5 0s, 1 3, 1 5, Done. (0.007s)\n",
            "image 152/463 /content/data/orand-car-with-bbs/test/images/handwritten_MX8900201931112006841_2A6oUVDp5ESnYCrWr7xLSg.bmp: 128x640 3 0s, 1 2, 1 3, 1 5, Done. (0.007s)\n",
            "image 153/463 /content/data/orand-car-with-bbs/test/images/handwritten_MX8900201931113247768_LgY32wDyU0SxcbpSE9Nvdw.bmp: 160x640 1 1, 1 3, 1 5, 1 8, 2 9s, Done. (0.007s)\n",
            "image 154/463 /content/data/orand-car-with-bbs/test/images/handwritten_MX8900201931113415664_AjD7Ov0glkCIfv3JjuG6ew.bmp: 128x640 1 0, 2 2s, 2 4s, 1 9, Done. (0.007s)\n",
            "image 155/463 /content/data/orand-car-with-bbs/test/images/handwritten_MX8900201931113853281_ynr739--NUeAThs-1i5iCQ.bmp: 96x640 3 0s, 1 2, 1 5, 1 9, Done. (0.007s)\n",
            "image 156/463 /content/data/orand-car-with-bbs/test/images/handwritten_MX8900201931114002813_mIWHg6TZXkGXFVnjB8kROQ.bmp: 160x640 3 1s, 1 5, 1 6, 2 9s, Done. (0.007s)\n",
            "image 157/463 /content/data/orand-car-with-bbs/test/images/handwritten_MX8900201931121416204_1bRIcQHXp0unkpeNXqxI2w.bmp: 224x640 2 0s, 1 6, 1 8, 1 9, Done. (0.007s)\n",
            "image 158/463 /content/data/orand-car-with-bbs/test/images/handwritten_MX8900201931121526743_WD4C3QTopUugMzzC0pwcqw.bmp: 192x640 3 0s, 1 1, 1 4, 1 5, Done. (0.007s)\n",
            "image 159/463 /content/data/orand-car-with-bbs/test/images/handwritten_MX8900201931121604748_BeWHq4vb9kySDG21F3is5Q.bmp: 128x640 1 3, 1 4, 2 8s, 3 9s, Done. (0.007s)\n",
            "image 160/463 /content/data/orand-car-with-bbs/test/images/handwritten_MX8900201931121630021__c08Y48VfES_uVmmqVnrJQ.bmp: 224x640 4 0s, 1 6, Done. (0.007s)\n",
            "image 161/463 /content/data/orand-car-with-bbs/test/images/handwritten_MX8900201931121719724_s3MdL1E2K02nHhbMi5MVxA.bmp: 160x640 1 1, 1 4, 1 5, 2 8s, 1 9, Done. (0.007s)\n",
            "image 162/463 /content/data/orand-car-with-bbs/test/images/handwritten_MX8900201931121812093_RHqZqmt0TU2P-zf4H_YW9Q.bmp: 160x640 1 0, 1 3, 1 4, 2 6s, 1 8, 1 9, Done. (0.006s)\n",
            "image 163/463 /content/data/orand-car-with-bbs/test/images/handwritten_MX8900201931122119087_Bc79njw4KkK5dZztpL2hog.bmp: 160x640 1 1, 1 3, 1 4, 1 5, 2 6s, Done. (0.008s)\n",
            "image 164/463 /content/data/orand-car-with-bbs/test/images/handwritten_MX8900201931123135984_iejYM4iKkEqZjVxl33l5tA.bmp: 128x640 2 1s, 1 4, 1 6, 2 7s, 1 8, 1 9, Done. (0.007s)\n",
            "image 165/463 /content/data/orand-car-with-bbs/test/images/handwritten_MX8900201931123941938_Rr9ejv_Ke0ykiPmOpOiFsg.bmp: 128x640 1 1, 1 3, 2 5s, 1 6, 1 7, 1 8, Done. (0.006s)\n",
            "image 166/463 /content/data/orand-car-with-bbs/test/images/handwritten_MX8900201931124132021_WcBrWKGMPEWvIAAirblS0Q.bmp: 192x640 1 1, 1 3, 1 7, 1 8, 1 9, Done. (0.008s)\n",
            "image 167/463 /content/data/orand-car-with-bbs/test/images/handwritten_MX8900201931124407527_yUTNsjZg-UqO58QigfhY-Q.bmp: 192x640 2 1s, 1 4, 2 5s, 1 7, 1 8, Done. (0.006s)\n",
            "image 168/463 /content/data/orand-car-with-bbs/test/images/handwritten_MX8900201931124428565_yZ1YtMyj80ilFF-y3wFxyw.bmp: 160x640 1 0, 1 1, 1 2, 1 4, 1 6, 1 8, Done. (0.007s)\n",
            "image 169/463 /content/data/orand-car-with-bbs/test/images/handwritten_MX8900201931124914239_a3i4ooe38U6n2FSW1EKuwg.bmp: 192x640 3 0s, 1 2, 1 6, 1 7, Done. (0.007s)\n",
            "image 170/463 /content/data/orand-car-with-bbs/test/images/handwritten_MX8900201931125120629_o-udROCnyk2UsWRaq4shVg.bmp: 160x640 3 0s, 1 1, 1 5, 1 7, 1 9, Done. (0.007s)\n",
            "image 171/463 /content/data/orand-car-with-bbs/test/images/handwritten_MX8900201931125224502_GkgBAySsVEKulO4jyCtGpQ.bmp: 64x640 4 0s, 1 1, 1 5, Done. (0.007s)\n",
            "image 172/463 /content/data/orand-car-with-bbs/test/images/handwritten_MX8900201931125325128_Jts83MFPQUajGG8e3aW-lA.bmp: 160x640 3 0s, 2 1s, 1 2, 1 5, Done. (0.007s)\n",
            "image 173/463 /content/data/orand-car-with-bbs/test/images/handwritten_MX8900201931125542318_8ixxlJeGW0a_AGqlJtekCA.bmp: 224x640 3 0s, 1 3, 1 9, Done. (0.007s)\n",
            "image 174/463 /content/data/orand-car-with-bbs/test/images/handwritten_MX8900201931125622206_TZhOmdsarUiocfL1cWA5NQ.bmp: 64x640 4 0s, 1 5, Done. (0.007s)\n",
            "image 175/463 /content/data/orand-car-with-bbs/test/images/handwritten_MX8900201931125821846_6GA1WD3JfEa9a0J_nORPTQ.bmp: 192x640 1 1, 1 2, 1 3, 1 4, 1 5, Done. (0.007s)\n",
            "image 176/463 /content/data/orand-car-with-bbs/test/images/handwritten_MX8900201931125827128_BMY8YuhSdEKOmHPH0gGW3w.bmp: 224x640 1 1, 2 6s, 1 8, 1 9, Done. (0.007s)\n",
            "image 177/463 /content/data/orand-car-with-bbs/test/images/handwritten_MX8900201931130030457_A0AxNAYQf06DspoSksI_XQ.bmp: 128x640 1 0, 2 5s, 2 6s, 1 7, Done. (0.007s)\n",
            "image 178/463 /content/data/orand-car-with-bbs/test/images/handwritten_MX8900201931130032532_ysUpG6UsL0ibSfYoL1hMYQ.bmp: 160x640 1 0, 1 4, 1 5, 1 6, 2 7s, 1 9, Done. (0.007s)\n",
            "image 179/463 /content/data/orand-car-with-bbs/test/images/handwritten_MX8900201931130215219_Lvm7dPQr0kukXDcOvmWw0A.bmp: 128x640 1 1, 1 2, 2 4s, 1 6, 1 9, Done. (0.007s)\n",
            "image 180/463 /content/data/orand-car-with-bbs/test/images/handwritten_MX8900201931130230252_Lz8Z9KnSM0Ww4KIZCUqk0A.bmp: 160x640 1 0, 1 4, 1 5, 1 6, 2 7s, 1 9, Done. (0.007s)\n",
            "image 181/463 /content/data/orand-car-with-bbs/test/images/handwritten_MX8900201931130430403_mUX4aJWrC0-7sbh1g6IBiQ.bmp: 160x640 1 0, 1 1, 1 3, 1 4, 1 5, 1 6, Done. (0.006s)\n",
            "image 182/463 /content/data/orand-car-with-bbs/test/images/handwritten_MX8900201931130441127_RcZzCL7K3kWpxc-qgqhAcw.bmp: 192x640 4 0s, 1 1, 1 2, 1 3, Done. (0.007s)\n",
            "image 183/463 /content/data/orand-car-with-bbs/test/images/handwritten_MX8900201931130648335_rY70W7K-FE2QCWZS4SefUQ.bmp: 224x640 4 0s, 1 1, 1 2, 1 3, Done. (0.007s)\n",
            "image 184/463 /content/data/orand-car-with-bbs/test/images/handwritten_MX8900201931131103356_kaMlPn64LUaNT7Q0nDmaXQ.bmp: 192x640 2 0s, 2 5s, 1 9, Done. (0.007s)\n",
            "image 185/463 /content/data/orand-car-with-bbs/test/images/handwritten_MX8900201931131108245_NERJW6l1EUWOcChkN6khoA.bmp: 128x640 1 0, 1 2, 2 3s, 2 8s, 1 9, Done. (0.007s)\n",
            "image 186/463 /content/data/orand-car-with-bbs/test/images/handwritten_MX8900201931131225702_qi7ZDxx6m0GmQcz24GyGiQ.bmp: 192x640 2 0s, 2 5s, 1 9, Done. (0.009s)\n",
            "image 187/463 /content/data/orand-car-with-bbs/test/images/handwritten_MX8900201931131240995_Kz3ZpWgvyEOIEN-L60XHGg.bmp: 192x640 3 0s, 1 1, Done. (0.007s)\n",
            "image 188/463 /content/data/orand-car-with-bbs/test/images/handwritten_MX8900201931131331208_pV0W4BnOR0CmPR3q_HOUOQ.bmp: 192x640 2 0s, 2 5s, 1 9, Done. (0.006s)\n",
            "image 189/463 /content/data/orand-car-with-bbs/test/images/handwritten_MX8900201931131437246_bdAxKbF0okK980kDk-R13w.bmp: 192x640 2 0s, 2 5s, 1 9, Done. (0.006s)\n",
            "image 190/463 /content/data/orand-car-with-bbs/test/images/handwritten_MX8900201931131635640_TiGkA2IIZUSpUIZFATCDYA.bmp: 128x640 1 0, 1 2, 2 3s, 2 8s, 1 9, Done. (0.008s)\n",
            "image 191/463 /content/data/orand-car-with-bbs/test/images/handwritten_MX8900201931131752436_Yjt1NPbfBECXMX5KeqJozw.bmp: 64x640 5 0s, 1 3, Done. (0.007s)\n",
            "image 192/463 /content/data/orand-car-with-bbs/test/images/handwritten_MX8900201931132101880_qm7ASJmAE0S5FnBv-hDu8g.bmp: 160x640 4 0s, 1 6, Done. (0.007s)\n",
            "image 193/463 /content/data/orand-car-with-bbs/test/images/handwritten_MX8900201931132352716_r36EzEiMnEyVeCjjtrRJZA.bmp: 160x640 4 2s, 1 5, 1 8, Done. (0.006s)\n",
            "image 194/463 /content/data/orand-car-with-bbs/test/images/handwritten_MX8900201931132729113_sDnneIitjU6c6m469RQCxQ.bmp: 160x640 2 0s, 1 5, 2 7s, 1 8, 1 9, Done. (0.006s)\n",
            "image 195/463 /content/data/orand-car-with-bbs/test/images/handwritten_MX8900201931133546887_te76ivh8ikSkb4mrC1AmoA.bmp: 128x640 1 0, 1 1, 1 2, 3 5s, 1 6, Done. (0.007s)\n",
            "image 196/463 /content/data/orand-car-with-bbs/test/images/handwritten_MX8900201931133719268_KAEaegrVikqudhwveH61Ig.bmp: 160x640 1 0, 1 1, 1 2, 1 6, 1 7, 1 8, Done. (0.007s)\n",
            "image 197/463 /content/data/orand-car-with-bbs/test/images/handwritten_MX8900201931134730199_ps31399FY0-JQVWVXa8FGg.bmp: 160x640 1 0, 1 2, 1 4, 1 7, 2 8s, Done. (0.006s)\n",
            "image 198/463 /content/data/orand-car-with-bbs/test/images/handwritten_MX8900201931135332825_GtAQASLy3ku95dlAW3dmWA.bmp: 128x640 1 0, 3 3s, 1 5, 1 7, Done. (0.007s)\n",
            "image 199/463 /content/data/orand-car-with-bbs/test/images/handwritten_MX8900201931144243170__pyrLOZeokGxl-b-6Ix5RA.bmp: 128x640 4 0s, 1 1, 1 2, 1 5, Done. (0.006s)\n",
            "image 200/463 /content/data/orand-car-with-bbs/test/images/handwritten_MX8900201931154348096_U9ocsweLiUmyKBRKWVxTYA.bmp: 192x640 2 1s, 1 4, 2 5s, 1 7, 1 8, Done. (0.007s)\n",
            "image 201/463 /content/data/orand-car-with-bbs/test/images/handwritten_MX8900201931170029553_3cDlChFeAUSXscshVnvrYQ.bmp: 192x640 1 2, 3 7s, Done. (0.006s)\n",
            "image 202/463 /content/data/orand-car-with-bbs/test/images/handwritten_MX8900201931170204100_UgMu0YFhgESJJQo6Xo0WBg.bmp: 160x640 2 4s, 1 5, 2 7s, Done. (0.007s)\n",
            "image 203/463 /content/data/orand-car-with-bbs/test/images/handwritten_MX8900201932085911486_DijyahCkWkez7BbMFAE2Eg.bmp: 192x640 3 0s, 1 1, Done. (0.007s)\n",
            "image 204/463 /content/data/orand-car-with-bbs/test/images/handwritten_MX8900201932090038429_fTWONHRH6kCvLVjqwS1qIg.bmp: 192x640 3 0s, 1 1, Done. (0.006s)\n",
            "image 205/463 /content/data/orand-car-with-bbs/test/images/handwritten_MX8900201932090156806_hSqC-i9BckqZ7mjFT_prvQ.bmp: 128x640 7 0s, 1 1, Done. (0.007s)\n",
            "image 206/463 /content/data/orand-car-with-bbs/test/images/handwritten_MX8900201932091604222_0iJ1D9OPbUOlf2Ed82mMXA.bmp: 128x640 3 0s, 1 1, 1 6, 2 9s, Done. (0.006s)\n",
            "image 207/463 /content/data/orand-car-with-bbs/test/images/handwritten_MX8900201932091723688_bbOYrqW6902g0Tc5_ShLmg.bmp: 192x640 2 1s, 1 5, 1 6, 1 8, Done. (0.007s)\n",
            "image 208/463 /content/data/orand-car-with-bbs/test/images/handwritten_MX8900201932091830426_YApmUMknl0qliRwS8BBnZQ.bmp: 160x640 1 1, 1 5, 2 6s, 1 7, Done. (0.007s)\n",
            "image 209/463 /content/data/orand-car-with-bbs/test/images/handwritten_MX8900201932092213384_l1K4opWZoEaBN9tgocnBWA.bmp: 160x640 1 1, 1 3, 1 7, 2 8s, Done. (0.006s)\n",
            "image 210/463 /content/data/orand-car-with-bbs/test/images/handwritten_MX8900201932092332942_3ZOiW1Cr-0CPno0Z9dD_WA.bmp: 128x640 1 1, 1 3, 1 5, 1 7, 2 8s, Done. (0.007s)\n",
            "image 211/463 /content/data/orand-car-with-bbs/test/images/handwritten_MX8900201932092508690_MnmErSBXQkWoabYszKJLYw.bmp: 128x640 1 1, 2 2s, 1 5, 2 7s, Done. (0.007s)\n",
            "image 212/463 /content/data/orand-car-with-bbs/test/images/handwritten_MX8900201932092737547_OjSr-ygYJUSAUAhBKknvmQ.bmp: 128x640 1 0, 1 1, 1 4, 1 5, 1 6, 1 9, Done. (0.006s)\n",
            "image 213/463 /content/data/orand-car-with-bbs/test/images/handwritten_MX8900201932092929165_WCOCTQethEaMf5ETajcDvA.bmp: 128x640 1 0, 2 4s, 1 5, 1 6, 1 8, 1 9, Done. (0.006s)\n",
            "image 214/463 /content/data/orand-car-with-bbs/test/images/handwritten_MX8900201932092944798_MxVSLeHRaEOSqIxXRrDZXw.bmp: 128x640 4 0s, 2 4s, Done. (0.006s)\n",
            "image 215/463 /content/data/orand-car-with-bbs/test/images/handwritten_MX8900201932093251636_STy6WuBbSUqXvqgWeRYzQA.bmp: 64x640 1 1, 1 3, 1 4, 1 5, 1 6, 1 7, 1 9, Done. (0.007s)\n",
            "image 216/463 /content/data/orand-car-with-bbs/test/images/handwritten_MX8900201932093332835_SndxYRKME0y3yY9XGzI3PA.bmp: 128x640 1 2, 2 4s, 1 7, 2 9s, Done. (0.007s)\n",
            "image 217/463 /content/data/orand-car-with-bbs/test/images/handwritten_MX8900201932095027938_AtHXzTdYRUKNTcKlOCiHMA.bmp: 160x640 1 1, 1 5, 1 6, 1 7, 1 9, Done. (0.007s)\n",
            "image 218/463 /content/data/orand-car-with-bbs/test/images/handwritten_MX8900201932095145476_95YhJQAIf0-d_tTtOGsfaw.bmp: 128x640 1 0, 2 1s, 1 3, 1 7, 1 9, Done. (0.007s)\n",
            "image 219/463 /content/data/orand-car-with-bbs/test/images/handwritten_MX8900201932095503374_ZnAZbQ9nTkOyIr7-wPmP1w.bmp: 128x640 1 0, 2 1s, 1 3, 1 7, 1 9, Done. (0.006s)\n",
            "image 220/463 /content/data/orand-car-with-bbs/test/images/handwritten_MX8900201932100636134_gcNC2Mssl0CheQ4S9uGwIw.bmp: 96x640 5 0s, 1 5, Done. (0.007s)\n",
            "image 221/463 /content/data/orand-car-with-bbs/test/images/handwritten_MX8900201932101633764_uLskrfgm7kOfbSCA_G8FBw.bmp: 64x640 1 0, 1 1, 1 2, 2 3s, Done. (0.007s)\n",
            "image 222/463 /content/data/orand-car-with-bbs/test/images/handwritten_MX8900201932101910581_v9hwFzXh0E2vfxN4STOR3A.bmp: 96x640 6 0s, 1 2, Done. (0.007s)\n",
            "image 223/463 /content/data/orand-car-with-bbs/test/images/handwritten_MX8900201932102040854_A_kybKFxSEaGGlG6J09Ezw.bmp: 64x640 1 2, 1 5, 2 6s, 2 7s, Done. (0.007s)\n",
            "image 224/463 /content/data/orand-car-with-bbs/test/images/handwritten_MX8900201932102353800_bhzbItiHXkycuFDeYsgORA.bmp: 96x640 6 0s, 1 2, Done. (0.007s)\n",
            "image 225/463 /content/data/orand-car-with-bbs/test/images/handwritten_MX8900201932102407167_v4ciirn-eEWLz9drjesgsA.bmp: 128x640 3 0s, 1 1, 1 5, 1 7, 1 8, Done. (0.007s)\n",
            "image 226/463 /content/data/orand-car-with-bbs/test/images/handwritten_MX8900201932102554585_OsecEHGVRUOmmps7kM8CdQ.bmp: 128x640 2 0s, 1 1, 1 3, 2 5s, 1 6, Done. (0.006s)\n",
            "image 227/463 /content/data/orand-car-with-bbs/test/images/handwritten_MX8900201932102604064_AfDKvgCrk0W8kgj7Uraw0w.bmp: 32x640 1 1, 1 2, 3 3s, Done. (0.009s)\n",
            "image 228/463 /content/data/orand-car-with-bbs/test/images/handwritten_MX8900201932102705301_5d1og0bQZkiKOiMaA31ytg.bmp: 192x640 2 0s, 1 6, 1 7, 2 8s, Done. (0.007s)\n",
            "image 229/463 /content/data/orand-car-with-bbs/test/images/handwritten_MX8900201932102831864_fWeIyledD06vwaxgovVxGA.bmp: 160x640 5 0s, 1 6, Done. (0.007s)\n",
            "image 230/463 /content/data/orand-car-with-bbs/test/images/handwritten_MX8900201932103049802_U1b0E-ajZUyi3vCckag-WQ.bmp: 192x640 3 0s, 1 4, 1 5, Done. (0.008s)\n",
            "image 231/463 /content/data/orand-car-with-bbs/test/images/handwritten_MX8900201932103521193_aq8qL_7tR0CqF4pRdJ6rWQ.bmp: 96x640 5 0s, 1 1, 1 8, Done. (0.007s)\n",
            "image 232/463 /content/data/orand-car-with-bbs/test/images/handwritten_MX8900201932103624324_5npXefMeyEaXV7RDGORxZQ.bmp: 128x640 1 0, 3 2s, 1 3, 1 8, Done. (0.007s)\n",
            "image 233/463 /content/data/orand-car-with-bbs/test/images/handwritten_MX8900201932103749230_BteMoZsFpEyo-XObLvMwCg.bmp: 96x640 1 0, 1 1, 3 2s, 1 5, 1 7, Done. (0.008s)\n",
            "image 234/463 /content/data/orand-car-with-bbs/test/images/handwritten_MX8900201932104039543__5oLgSkx0EyQH2QUXUxpng.bmp: 96x640 6 0s, 1 3, 1 5, Done. (0.006s)\n",
            "image 235/463 /content/data/orand-car-with-bbs/test/images/handwritten_MX8900201932105153682_gKvctUSK0ECiLXWML0Ry0A.bmp: 128x640 5 0s, 1 1, Done. (0.007s)\n",
            "image 236/463 /content/data/orand-car-with-bbs/test/images/handwritten_MX8900201932105557051_2bnBpq3owEy_rshxORHnhw.bmp: 128x640 5 0s, 1 2, Done. (0.006s)\n",
            "image 237/463 /content/data/orand-car-with-bbs/test/images/handwritten_MX8900201932105822693_s4CSYWAD6UGF8S0q7g7LmA.bmp: 160x640 5 0s, 1 2, Done. (0.007s)\n",
            "image 238/463 /content/data/orand-car-with-bbs/test/images/handwritten_MX8900201932105850074_i4a3uwiNH0mU0a1CIpIKyg.bmp: 64x640 1 0, 2 2s, 1 6, 1 7, 1 8, Done. (0.008s)\n",
            "image 239/463 /content/data/orand-car-with-bbs/test/images/handwritten_MX8900201932110256693_RxPQe8PIX0K5MEubCSdMOA.bmp: 96x640 1 4, 1 6, 1 7, 1 8, 2 9s, Done. (0.007s)\n",
            "image 240/463 /content/data/orand-car-with-bbs/test/images/handwritten_MX8900201932111338047_1qrBLhv6t0mt21z8Ud2h3g.bmp: 160x640 5 0s, 1 6, Done. (0.007s)\n",
            "image 241/463 /content/data/orand-car-with-bbs/test/images/handwritten_MX8900201932112642890_OkyiHuy8wka4_apKGbRhFw.bmp: 160x640 3 0s, 1 2, 1 8, Done. (0.006s)\n",
            "image 242/463 /content/data/orand-car-with-bbs/test/images/handwritten_MX8900201932112934694_fpDV8n804EGniMpMNnvghA.bmp: 160x640 1 0, 2 4s, 1 5, 1 6, 1 8, 1 9, Done. (0.006s)\n",
            "image 243/463 /content/data/orand-car-with-bbs/test/images/handwritten_MX8900201932113301476_dqRkTWzeqUGr5sH4YdrAnQ.bmp: 160x640 4 0s, 1 6, Done. (0.006s)\n",
            "image 244/463 /content/data/orand-car-with-bbs/test/images/handwritten_MX8900201932113818275_pgujNubL-kKJABr1LzhLNw.bmp: 160x640 4 0s, 1 6, Done. (0.006s)\n",
            "image 245/463 /content/data/orand-car-with-bbs/test/images/handwritten_MX8900201932113833442_1y2v1vcOuEWAlsoiTJRVZw.bmp: 192x640 1 1, 2 3s, 1 5, 1 6, 1 8, 1 9, Done. (0.007s)\n",
            "image 246/463 /content/data/orand-car-with-bbs/test/images/handwritten_MX8900201932113928869_HQKmCCrOgU2dBV48leghFg.bmp: 128x640 4 0s, 1 3, 1 6, Done. (0.007s)\n",
            "image 247/463 /content/data/orand-car-with-bbs/test/images/handwritten_MX8900201932113946616_eMBawO9c-0apnl-tKDA7dg.bmp: 192x640 3 0s, 1 2, 1 6, 1 9, Done. (0.008s)\n",
            "image 248/463 /content/data/orand-car-with-bbs/test/images/handwritten_MX8900201932114032955_hveA8nnDykuAU9N_8Ipj4A.bmp: 160x640 3 0s, 1 6, 1 8, Done. (0.007s)\n",
            "image 249/463 /content/data/orand-car-with-bbs/test/images/handwritten_MX8900201932114153322_9okXMztKiEiGT2u6LnAtnA.bmp: 128x640 4 0s, 1 6, Done. (0.007s)\n",
            "image 250/463 /content/data/orand-car-with-bbs/test/images/handwritten_MX8900201932114911042_Aa1mziAodk22YyB0Z35ooA.bmp: 160x640 1 2, 1 3, 3 4s, 1 5, Done. (0.007s)\n",
            "image 251/463 /content/data/orand-car-with-bbs/test/images/handwritten_MX8900201932115722003_tztE7QCbzk-v_kNOt_Wf0Q.bmp: 192x640 4 0s, 1 4, 1 5, Done. (0.007s)\n",
            "image 252/463 /content/data/orand-car-with-bbs/test/images/handwritten_MX8900201932120358936_HkAKjH9dUEaFE_Jqnayaaw.bmp: 96x640 8 0s, 1 1, Done. (0.007s)\n",
            "image 253/463 /content/data/orand-car-with-bbs/test/images/handwritten_MX8900201932121444879_0-6yjjezmEmwu1oIeKfwLg.bmp: 160x640 5 0s, 1 5, Done. (0.007s)\n",
            "image 254/463 /content/data/orand-car-with-bbs/test/images/handwritten_MX8900201932121831934_1a7eAgHX3kSbyx_UZj6Pyg.bmp: 64x640 1 0, 1 2, 1 3, 1 4, 1 7, 2 8s, Done. (0.007s)\n",
            "image 255/463 /content/data/orand-car-with-bbs/test/images/handwritten_MX8900201932124519145_I5LGI3GFJEaL0ES3iQv7cw.bmp: 32x640 3 0s, 2 3s, 1 5, Done. (0.007s)\n",
            "image 256/463 /content/data/orand-car-with-bbs/test/images/handwritten_MX8900201932124756123_DrB3PIRqf0q-FlqeicgMQA.bmp: 128x640 1 0, 1 1, 1 3, 1 6, 1 8, 1 9, Done. (0.007s)\n",
            "image 257/463 /content/data/orand-car-with-bbs/test/images/handwritten_MX8900201932124954958_EOceJxaE6Euv85H7r006rw.bmp: 128x640 1 0, 1 1, 1 3, 1 6, 1 8, 1 9, Done. (0.006s)\n",
            "image 258/463 /content/data/orand-car-with-bbs/test/images/handwritten_MX8900201932125039732_BVelzbhajkmoMO22S_cG8A.bmp: 192x640 4 0s, 1 3, Done. (0.007s)\n",
            "image 259/463 /content/data/orand-car-with-bbs/test/images/handwritten_MX8900201932125145714_RCHOB-IV0EmxKUlnn9vElQ.bmp: 160x640 3 0s, 1 4, 1 9, Done. (0.007s)\n",
            "image 260/463 /content/data/orand-car-with-bbs/test/images/handwritten_MX8900201932125403102_E7U6-fcL-EGhV_5TgJZYYg.bmp: 128x640 2 0s, 2 2s, 1 5, 1 6, Done. (0.007s)\n",
            "image 261/463 /content/data/orand-car-with-bbs/test/images/handwritten_MX8900201932125426072_6VTF42bRiUmPP9i8GlPwqA.bmp: 160x640 1 0, 2 1s, 1 4, 1 7, 1 9, Done. (0.007s)\n",
            "image 262/463 /content/data/orand-car-with-bbs/test/images/handwritten_MX8900201932125521458_j98WUnwN4UuDbfhzaDyXjA.bmp: 256x640 4 0s, 1 3, 1 6, Done. (0.008s)\n",
            "image 263/463 /content/data/orand-car-with-bbs/test/images/handwritten_MX8900201932125815678_A1USPFYp3Uav8Ril3gfajw.bmp: 192x640 3 2s, 1 8, 1 9, Done. (0.007s)\n",
            "image 264/463 /content/data/orand-car-with-bbs/test/images/handwritten_MX8900201932130004927_dUE_55CR1kCCUVStYvUJLA.bmp: 192x640 1 0, 1 3, 1 4, 1 5, 1 6, Done. (0.006s)\n",
            "image 265/463 /content/data/orand-car-with-bbs/test/images/handwritten_MX8900201932130349181_he8Dl1TZx0Cs-7U0qj_bvQ.bmp: 96x640 1 0, 1 1, 2 3s, 2 9s, Done. (0.007s)\n",
            "image 266/463 /content/data/orand-car-with-bbs/test/images/handwritten_MX8900201932130619597_4z3q6zBLuEuAiwJXk5GZgQ.bmp: 160x640 1 0, 2 1s, 1 3, 1 4, 1 9, Done. (0.007s)\n",
            "image 267/463 /content/data/orand-car-with-bbs/test/images/handwritten_MX8900201932130956250_NFzm1omYyUmtFtt0EoTVpg.bmp: 64x640 3 1s, 2 2s, 1 3, 1 6, 1 7, Done. (0.007s)\n",
            "image 268/463 /content/data/orand-car-with-bbs/test/images/handwritten_MX8900201932131121722_vGLzQ_WOXUeI4sgEmKgtrQ.bmp: 96x640 1 0, 1 2, 1 3, 2 5s, 1 7, 1 8, Done. (0.007s)\n",
            "image 269/463 /content/data/orand-car-with-bbs/test/images/handwritten_MX8900201932131255960_kUPXsQFnGEeHbRmU-xEdqw.bmp: 160x640 1 0, 3 1s, 1 6, 1 7, 1 9, Done. (0.007s)\n",
            "image 270/463 /content/data/orand-car-with-bbs/test/images/handwritten_MX8900201932132010178_vbGL1LdaBE2_WCUjmhIh-A.bmp: 160x640 1 2, 2 3s, 1 4, 1 5, 2 8s, Done. (0.006s)\n",
            "image 271/463 /content/data/orand-car-with-bbs/test/images/handwritten_MX8900201932133732118_eryM4YLbEE2CDxVoJ4s1tA.bmp: 128x640 6 0s, 1 5, Done. (0.007s)\n",
            "image 272/463 /content/data/orand-car-with-bbs/test/images/handwritten_MX8900201932134204062_O1-WRkYd3UGsUSOpXqpxVA.bmp: 64x640 4 0s, 1 1, 2 4s, Done. (0.008s)\n",
            "image 273/463 /content/data/orand-car-with-bbs/test/images/handwritten_MX8900201932134451373_FuSzHGNuhEq3TWerhmQmTQ.bmp: 64x640 4 0s, 1 1, 2 4s, Done. (0.006s)\n",
            "image 274/463 /content/data/orand-car-with-bbs/test/images/handwritten_MX8900201932134704793_mfULa2B840u_spuH57jDXQ.bmp: 192x640 1 0, 1 3, 1 4, 1 5, 2 9s, Done. (0.007s)\n",
            "image 275/463 /content/data/orand-car-with-bbs/test/images/handwritten_MX8900201932135057797_Uo_wtt93AE25J0dasCmZ4g.bmp: 128x640 1 0, 2 1s, 1 2, 1 3, 1 4, 1 5, 1 9, Done. (0.007s)\n",
            "image 276/463 /content/data/orand-car-with-bbs/test/images/handwritten_MX8900201932135133984_KyLLPNDi8EKIssXzCHgwPg.bmp: 128x640 1 0, 1 2, 1 3, 3 7s, Done. (0.006s)\n",
            "image 277/463 /content/data/orand-car-with-bbs/test/images/handwritten_MX8900201932135641518_4Bs7X2W4lEOQOogfJhHCXA.bmp: 96x640 1 1, 2 2s, 1 7, 2 8s, 1 9, Done. (0.007s)\n",
            "image 278/463 /content/data/orand-car-with-bbs/test/images/handwritten_MX8900201932135825874_Wpa9n2lALUiiu918ioJg4w.bmp: 96x640 1 1, 2 2s, 1 7, 1 8, 1 9, Done. (0.007s)\n",
            "image 279/463 /content/data/orand-car-with-bbs/test/images/handwritten_MX8900201935093750782_3RmEgQBOSk63UyIIgY5mgg.bmp: 128x640 2 0s, 1 1, 1 4, 1 7, 1 9, Done. (0.007s)\n",
            "image 280/463 /content/data/orand-car-with-bbs/test/images/handwritten_MX8900201935093929132_qoZQ_ny2FEKkiojFwyI8-w.bmp: 160x640 1 2, 1 4, 1 5, 1 6, 1 7, Done. (0.007s)\n",
            "image 281/463 /content/data/orand-car-with-bbs/test/images/handwritten_MX8900201935094215056_SUw5rvCna0-j_Sd1jIzOPA.bmp: 128x640 2 0s, 1 2, 1 4, 2 8s, Done. (0.007s)\n",
            "image 282/463 /content/data/orand-car-with-bbs/test/images/handwritten_MX8900201935094437494_dYJbAcFrmkW05gsNypM_kQ.bmp: 192x640 1 1, 1 2, 1 4, 1 5, 1 6, 1 7, Done. (0.007s)\n",
            "image 283/463 /content/data/orand-car-with-bbs/test/images/handwritten_MX8900201935094547931_x48uwOEf2EaEH8tbBgIvsA.bmp: 128x640 4 0s, 1 2, 1 5, Done. (0.007s)\n",
            "image 284/463 /content/data/orand-car-with-bbs/test/images/handwritten_MX8900201935094652983_sSkHXVUGLEy8MzVzqtzkMQ.bmp: 160x640 3 0s, 1 5, 1 9, Done. (0.007s)\n",
            "image 285/463 /content/data/orand-car-with-bbs/test/images/handwritten_MX8900201935094759531_Q-HM2_jfGUahQ0QhIGzrNA.bmp: 160x640 3 5s, 1 7, 1 8, Done. (0.006s)\n",
            "image 286/463 /content/data/orand-car-with-bbs/test/images/handwritten_MX8900201935094922195_ZGcDRu2Pvkem8pHBpmYqvw.bmp: 160x640 2 6s, 2 7s, 1 8, Done. (0.006s)\n",
            "image 287/463 /content/data/orand-car-with-bbs/test/images/handwritten_MX8900201935104359446_ZkqagPAWxkO8JvujZm55iA.bmp: 128x640 5 0s, 1 5, Done. (0.007s)\n",
            "image 288/463 /content/data/orand-car-with-bbs/test/images/handwritten_MX8900201935104604002_ZWfWQgUpWEGnRWlcLPNP7g.bmp: 128x640 5 0s, 1 5, Done. (0.006s)\n",
            "image 289/463 /content/data/orand-car-with-bbs/test/images/handwritten_MX8900201935104858017_HPUzKlfOKUqF5uJwVckVoA.bmp: 128x640 5 0s, 1 5, Done. (0.006s)\n",
            "image 290/463 /content/data/orand-car-with-bbs/test/images/handwritten_MX8900201935105113196_4iAqNhOvLEarcS6RPpI2Lw.bmp: 128x640 5 0s, 1 5, Done. (0.006s)\n",
            "image 291/463 /content/data/orand-car-with-bbs/test/images/handwritten_MX8900201935105747047_x0WamgCR6kCH3zKxokBpfg.bmp: 192x640 4 0s, 1 8, Done. (0.009s)\n",
            "image 292/463 /content/data/orand-car-with-bbs/test/images/handwritten_MX8900201935105914149_c_sWPvfLoEOJ-IYkPEHu3Q.bmp: 160x640 4 0s, 2 1s, Done. (0.007s)\n",
            "image 293/463 /content/data/orand-car-with-bbs/test/images/handwritten_MX8900201935110718148_vvF1L-TVb0euMO6_BCKYCA.bmp: 96x640 2 0s, 2 1s, 2 4s, 1 5, Done. (0.007s)\n",
            "image 294/463 /content/data/orand-car-with-bbs/test/images/handwritten_MX8900201935111657889_1z6tKTZmSEyP82z6ji0Kxg.bmp: 160x640 2 1s, 2 3s, 2 9s, Done. (0.007s)\n",
            "image 295/463 /content/data/orand-car-with-bbs/test/images/handwritten_MX8900201935114212045_LMwWi-BX2kCT_SQMxS3qfw.bmp: 160x640 1 0, 1 1, 1 2, 2 6s, 1 9, Done. (0.006s)\n",
            "image 296/463 /content/data/orand-car-with-bbs/test/images/handwritten_MX8900201935120314894_ydWXmfNsvEGAMO1k2MPSsA.bmp: 160x640 2 0s, 1 4, 1 6, 1 7, Done. (0.007s)\n",
            "image 297/463 /content/data/orand-car-with-bbs/test/images/handwritten_MX8900201935120806655_YGI3y5Ysy0eLsUlZBEdIWw.bmp: 224x640 4 0s, 1 1, 1 6, Done. (0.007s)\n",
            "image 298/463 /content/data/orand-car-with-bbs/test/images/handwritten_MX8900201935121403449_quXQlwBmcku7xNgy2rlp-g.bmp: 160x640 2 0s, 1 2, 2 4s, 3 7s, Done. (0.007s)\n",
            "image 299/463 /content/data/orand-car-with-bbs/test/images/handwritten_MX8900201935122601502_98uOCPhzl0e3cgF29Z0Eng.bmp: 128x640 1 0, 2 3s, 1 6, 2 8s, Done. (0.007s)\n",
            "image 300/463 /content/data/orand-car-with-bbs/test/images/handwritten_MX8900201935123320939_ec_FioBJGUSvhkwPpIh-TA.bmp: 128x640 5 0s, 1 1, 1 5, Done. (0.006s)\n",
            "image 301/463 /content/data/orand-car-with-bbs/test/images/handwritten_MX8900201935125230346_u1iRfRLV20aWLtxE3BXgEg.bmp: 128x640 5 0s, 1 5, Done. (0.006s)\n",
            "image 302/463 /content/data/orand-car-with-bbs/test/images/handwritten_MX8900201935125436244_BpUdBplAPkirVQqVpKRCZw.bmp: 160x640 1 1, 2 2s, 2 3s, 1 9, Done. (0.007s)\n",
            "image 303/463 /content/data/orand-car-with-bbs/test/images/handwritten_MX8900201935125541715_3_6aHxaon0yt3LsoT_Sghg.bmp: 128x640 1 0, 1 3, 1 4, 2 6s, 1 8, 1 9, Done. (0.007s)\n",
            "image 304/463 /content/data/orand-car-with-bbs/test/images/handwritten_MX8900201935125601210_CnHE8iOR90eDn_vxBi_rfg.bmp: 128x640 1 0, 1 2, 1 3, 2 4s, 1 6, 1 7, Done. (0.006s)\n",
            "image 305/463 /content/data/orand-car-with-bbs/test/images/handwritten_MX8900201935125826857_XNMYFFmM6UafRi3U7BuBDQ.bmp: 128x640 1 0, 1 2, 1 3, 2 4s, 1 6, 1 7, Done. (0.006s)\n",
            "image 306/463 /content/data/orand-car-with-bbs/test/images/handwritten_MX8900201935131515127_A1Ykal3KH0uDrnLvDJfhIA.bmp: 128x640 1 0, 1 1, 1 3, 2 5s, 1 7, 1 9, Done. (0.006s)\n",
            "image 307/463 /content/data/orand-car-with-bbs/test/images/handwritten_MX8900201935132220578_1VM0cJqak0OdHC0UCgx9Qw.bmp: 224x640 1 2, 1 3, 1 4, 1 6, 1 9, Done. (0.007s)\n",
            "image 308/463 /content/data/orand-car-with-bbs/test/images/handwritten_MX8900201935133014373_eq9jx5lrx0Ci9hKykcTXsA.bmp: 160x640 2 0s, 2 1s, 1 2, 1 4, Done. (0.007s)\n",
            "image 309/463 /content/data/orand-car-with-bbs/test/images/handwritten_MX8900201935134835772_DgYl3nc3kEylF5ngJw2iew.bmp: 192x640 2 0s, 1 1, 1 2, 1 4, 1 6, Done. (0.007s)\n",
            "image 310/463 /content/data/orand-car-with-bbs/test/images/handwritten_MX8900201935135639465_bkkHurw0C0W_nEDI4Ka2Pg.bmp: 96x640 3 0s, 1 2, 1 4, 1 6, 1 7, Done. (0.007s)\n",
            "image 311/463 /content/data/orand-car-with-bbs/test/images/handwritten_MX8900201935135830325_2E7V8u8uD0eoANhK0KqEVQ.bmp: 96x640 3 0s, 1 2, 1 4, 1 6, 1 7, Done. (0.006s)\n",
            "image 312/463 /content/data/orand-car-with-bbs/test/images/handwritten_MX8900201935145135528_HkGZvIn0D0-gNN2RW2NQJA.bmp: 128x640 1 1, 2 2s, 1 3, 1 4, 1 8, Done. (0.007s)\n",
            "image 313/463 /content/data/orand-car-with-bbs/test/images/handwritten_MX8900201935145300516_3pFEkSagsUu_nIxWH32crQ.bmp: 224x640 1 0, 1 4, 1 7, 2 9s, Done. (0.007s)\n",
            "image 314/463 /content/data/orand-car-with-bbs/test/images/handwritten_MX8900201935150302847_9FJSftugoE-x_G4NAa_P_w.bmp: 96x640 5 0s, 1 5, Done. (0.007s)\n",
            "image 315/463 /content/data/orand-car-with-bbs/test/images/handwritten_MX8900201935150324565_LfdFyqB1a0eNpJYIdKhtrA.bmp: 160x640 1 0, 3 1s, 1 2, 1 6, Done. (0.007s)\n",
            "image 316/463 /content/data/orand-car-with-bbs/test/images/handwritten_MX8900201936092334123_WvsXKcc-7k2cdvy3GkTExw.bmp: 96x640 2 0s, 1 1, 1 2, 1 5, 1 7, 1 8, Done. (0.007s)\n",
            "image 317/463 /content/data/orand-car-with-bbs/test/images/handwritten_MX8900201936092537055_p3Rpx-Tj6UOQNrL8wmt61g.bmp: 128x640 3 0s, 1 1, 2 4s, Done. (0.007s)\n",
            "image 318/463 /content/data/orand-car-with-bbs/test/images/handwritten_MX8900201936092855169_WU3LOiJ7tEq59hIHjFz9nA.bmp: 128x640 3 0s, 1 2, 1 3, 1 4, Done. (0.006s)\n",
            "image 319/463 /content/data/orand-car-with-bbs/test/images/handwritten_MX8900201936093358768_mWR1fVx89EiK9DU0c7EjbQ.bmp: 128x640 1 0, 1 1, 1 2, 1 3, 1 6, 1 9, Done. (0.008s)\n",
            "image 320/463 /content/data/orand-car-with-bbs/test/images/handwritten_MX8900201936094005787_dYn9gQybK0WLgjrW8BoszQ.bmp: 128x640 1 0, 1 1, 1 2, 1 3, 1 4, 1 6, 1 9, Done. (0.008s)\n",
            "image 321/463 /content/data/orand-car-with-bbs/test/images/handwritten_MX8900201936100411165_qgEZqlxh7E-eWlndy_K-7A.bmp: 96x640 3 0s, 1 1, 1 5, 1 7, 1 8, Done. (0.007s)\n",
            "image 322/463 /content/data/orand-car-with-bbs/test/images/handwritten_MX8900201936100759737_ZBNtpyl8DEy7zU-f0iD7Rw.bmp: 160x640 4 0s, 1 3, 1 8, Done. (0.007s)\n",
            "image 323/463 /content/data/orand-car-with-bbs/test/images/handwritten_MX8900201936104541029_5QR1yR0co0-O9tzxsqFurw.bmp: 96x640 2 1s, 3 2s, 1 4, 1 5, 1 7, Done. (0.007s)\n",
            "image 324/463 /content/data/orand-car-with-bbs/test/images/handwritten_MX8900201936105052243_TwipLQA7rEu-bPu-d3iLAA.bmp: 224x640 2 0s, 1 2, 1 4, 2 9s, Done. (0.007s)\n",
            "image 325/463 /content/data/orand-car-with-bbs/test/images/handwritten_MX8900201936105423729_jPo9MLzt-keYFuMVaGS9IA.bmp: 160x640 2 0s, 2 3s, 1 4, 1 5, Done. (0.007s)\n",
            "image 326/463 /content/data/orand-car-with-bbs/test/images/handwritten_MX8900201936105606373_wWaiTHNx1EG9Fk6gmS-p4w.bmp: 192x640 2 0s, 1 2, 1 4, 1 5, 2 9s, Done. (0.007s)\n",
            "image 327/463 /content/data/orand-car-with-bbs/test/images/handwritten_MX8900201936110400528_GU2_gM3QbUCFmu2CfGoaLw.bmp: 256x640 1 0, 1 2, 1 4, 1 6, 1 7, Done. (0.007s)\n",
            "image 328/463 /content/data/orand-car-with-bbs/test/images/handwritten_MX8900201936112511490_nyj59wKFREOqIJIoHFSCBg.bmp: 96x640 3 0s, 2 4s, 1 5, 1 7, Done. (0.007s)\n",
            "image 329/463 /content/data/orand-car-with-bbs/test/images/handwritten_MX8900201936112956764_093JHWR_OEKwbj871XA9Pw.bmp: 256x640 4 0s, 1 4, Done. (0.007s)\n",
            "image 330/463 /content/data/orand-car-with-bbs/test/images/handwritten_MX8900201936114043351_Qo3v6oX5SU-F4ESAYM6r9A.bmp: 192x640 1 1, 2 2s, 1 7, 1 8, Done. (0.007s)\n",
            "image 331/463 /content/data/orand-car-with-bbs/test/images/handwritten_MX8900201936114137218_OK5arPGk7UO1XmJ0iPnGrA.bmp: 128x640 4 0s, 1 1, 1 2, Done. (0.007s)\n",
            "image 332/463 /content/data/orand-car-with-bbs/test/images/handwritten_MX8900201936114315381_-I0O8zmWu0qKrMfVFtXnJg.bmp: 128x640 2 4s, 2 6s, 2 7s, Done. (0.006s)\n",
            "image 333/463 /content/data/orand-car-with-bbs/test/images/handwritten_MX8900201936114431406_qZPweYgTK0iHiO1oqOPleg.bmp: 160x640 4 0s, 1 5, Done. (0.007s)\n",
            "image 334/463 /content/data/orand-car-with-bbs/test/images/handwritten_MX8900201936114437322_VLDzAba3DEeD2DYB9ga0XA.bmp: 160x640 2 0s, 1 2, 3 6s, Done. (0.006s)\n",
            "image 335/463 /content/data/orand-car-with-bbs/test/images/handwritten_MX8900201936114713290_KkqobACDD0Whp1fbejlG7w.bmp: 160x640 2 3s, 2 5s, 1 8, Done. (0.006s)\n",
            "image 336/463 /content/data/orand-car-with-bbs/test/images/handwritten_MX8900201936114924750_0TexqFdYg0O55jM8mFin7w.bmp: 224x640 1 0, 1 2, 2 9s, Done. (0.007s)\n",
            "image 337/463 /content/data/orand-car-with-bbs/test/images/handwritten_MX8900201936115135972_luXyJT06CEeezfj658nzzQ.bmp: 128x640 3 1s, 1 2, 1 5, 1 7, 1 8, Done. (0.007s)\n",
            "image 338/463 /content/data/orand-car-with-bbs/test/images/handwritten_MX8900201936115929005_sEKsBEMbS0egum6iErb45A.bmp: 192x640 4 0s, 1 3, Done. (0.007s)\n",
            "image 339/463 /content/data/orand-car-with-bbs/test/images/handwritten_MX8900201936120847518_rZce3imdgkyvPoMYj_2wnA.bmp: 96x640 7 0s, 1 1, Done. (0.007s)\n",
            "image 340/463 /content/data/orand-car-with-bbs/test/images/handwritten_MX8900201936123530080_zRIHXkBSxUm4HfPgQq8UGA.bmp: 160x640 2 0s, 1 2, 1 5, 1 6, 1 8, Done. (0.007s)\n",
            "image 341/463 /content/data/orand-car-with-bbs/test/images/handwritten_MX8900201936130436955_udGtl52p2U-R-seaVRS3Jw.bmp: 192x640 2 2s, 3 3s, 1 6, Done. (0.007s)\n",
            "image 342/463 /content/data/orand-car-with-bbs/test/images/handwritten_MX8900201936130716185_ghmeoeUfm0CrpESCfMCDfg.bmp: 96x640 2 1s, 1 2, 1 3, 2 5s, Done. (0.007s)\n",
            "image 343/463 /content/data/orand-car-with-bbs/test/images/handwritten_MX8900201936133132557_P_clcBHP50SCxcCzl4n-Lg.bmp: 160x640 4 0s, 1 9, Done. (0.007s)\n",
            "image 344/463 /content/data/orand-car-with-bbs/test/images/handwritten_MX8900201936150004453_rKWxwkp4q0SdCt4LXEeiSw.bmp: 128x640 4 0s, 1 8, Done. (0.007s)\n",
            "image 345/463 /content/data/orand-car-with-bbs/test/images/handwritten_MX8900201936150254526_YZ-_jPQTyUOaN7Ge5x8-Nw.bmp: 128x640 4 0s, 1 8, Done. (0.006s)\n",
            "image 346/463 /content/data/orand-car-with-bbs/test/images/handwritten_MX8900201936151244550_uzGIti9TKE2Q3cfWmQsvIQ.bmp: 160x640 5 0s, 1 5, Done. (0.007s)\n",
            "image 347/463 /content/data/orand-car-with-bbs/test/images/handwritten_MX8900201936164330811_oeAJ-IBbbkONQ3z1haDtHw.bmp: 224x640 3 0s, 1 1, Done. (0.009s)\n",
            "image 348/463 /content/data/orand-car-with-bbs/test/images/handwritten_MX8900201936164512516_B5SwKCo2sE2VAGnTfKD6Aw.bmp: 256x640 3 0s, 1 1, Done. (0.007s)\n",
            "image 349/463 /content/data/orand-car-with-bbs/test/images/handwritten_MX8900201936164943302_y7ZtZGsz7EmNFosJ6VD5qg.bmp: 256x640 3 0s, 1 1, Done. (0.007s)\n",
            "image 350/463 /content/data/orand-car-with-bbs/test/images/handwritten_MX8900201936165320854_4g7zODLNxEq5HWV0AHkhCQ.bmp: 256x640 3 0s, 1 1, Done. (0.006s)\n",
            "image 351/463 /content/data/orand-car-with-bbs/test/images/handwritten_MX8900201937085448898_1ImaVEjV70ehkCr3Kc4PjA.bmp: 256x640 3 0s, 1 1, Done. (0.006s)\n",
            "image 352/463 /content/data/orand-car-with-bbs/test/images/handwritten_MX8900201937085646355_cQCwmf3upkWkFOhWmmcrWw.bmp: 256x640 3 0s, 1 1, Done. (0.006s)\n",
            "image 353/463 /content/data/orand-car-with-bbs/test/images/handwritten_MX8900201937092612223_kXVYAtFqXUajmOqhVID9Cg.bmp: 64x640 1 3, 2 4s, 1 7, 1 8, 2 9s, Done. (0.007s)\n",
            "image 354/463 /content/data/orand-car-with-bbs/test/images/handwritten_MX8900201937093422858_kTkbFunkS0ePLqbnI89upQ.bmp: 160x640 1 0, 1 1, 1 2, 2 5s, 1 9, Done. (0.007s)\n",
            "image 355/463 /content/data/orand-car-with-bbs/test/images/handwritten_MX8900201937095413355_iQDErtN8XkCCpTiib7Infw.bmp: 224x640 3 0s, 1 1, Done. (0.007s)\n",
            "image 356/463 /content/data/orand-car-with-bbs/test/images/handwritten_MX8900201937100344197_CF88vZ4Dr0OCgJpUrAPY4w.bmp: 256x640 3 0s, 1 1, Done. (0.007s)\n",
            "image 357/463 /content/data/orand-car-with-bbs/test/images/handwritten_MX8900201937100605637_wsDKiyY-kEqiIc_tqLa2QA.bmp: 256x640 3 0s, 1 1, Done. (0.007s)\n",
            "image 358/463 /content/data/orand-car-with-bbs/test/images/handwritten_MX8900201937105320243_UBtSmf6D9Eqar5uw_Jn_Cw.bmp: 96x640 1 1, 2 2s, 1 3, 1 8, 2 9s, Done. (0.007s)\n",
            "image 359/463 /content/data/orand-car-with-bbs/test/images/handwritten_MX8900201937110419190_majFAFDvrUyRwKLLXA0FtQ.bmp: 128x640 2 1s, 1 2, 1 3, 1 4, 2 5s, Done. (0.007s)\n",
            "image 360/463 /content/data/orand-car-with-bbs/test/images/handwritten_MX8900201937111447975_eUrfcINikEm6RQ_R_2TSYQ.bmp: 128x640 1 0, 1 1, 1 4, 2 5s, 1 7, Done. (0.006s)\n",
            "image 361/463 /content/data/orand-car-with-bbs/test/images/handwritten_MX8900201937112334145_L5G0KX6PJUiNvtyqIbFG1A.bmp: 128x640 5 0s, 1 2, Done. (0.006s)\n",
            "image 362/463 /content/data/orand-car-with-bbs/test/images/handwritten_MX8900201937112803074_Se3gBhbwfk2jEAu0kuKPUg.bmp: 192x640 3 0s, 1 1, 1 5, 1 6, Done. (0.007s)\n",
            "image 363/463 /content/data/orand-car-with-bbs/test/images/handwritten_MX8900201937113001766_j6JPp0fSq0mnze0xBsX7EA.bmp: 192x640 3 0s, 1 1, 1 4, 1 8, Done. (0.006s)\n",
            "image 364/463 /content/data/orand-car-with-bbs/test/images/handwritten_MX8900201937115640437_UYZA4IvbMEO1z2w9gn_kuQ.bmp: 224x640 2 0s, 1 3, 1 6, 1 9, Done. (0.007s)\n",
            "image 365/463 /content/data/orand-car-with-bbs/test/images/handwritten_MX8900201937115804094_6stel91mA0ef2lh6gOD60w.bmp: 192x640 3 1s, 1 5, 1 6, 1 7, Done. (0.007s)\n",
            "image 366/463 /content/data/orand-car-with-bbs/test/images/handwritten_MX8900201937115912924_LWFntYmBukmlHCZqc4LDWA.bmp: 128x640 2 0s, 1 3, 1 5, 1 8, Done. (0.007s)\n",
            "image 367/463 /content/data/orand-car-with-bbs/test/images/handwritten_MX8900201937120218101_Eag6S7zK7UOe6i-cFivULw.bmp: 128x640 3 0s, 1 3, 1 5, 1 7, Done. (0.006s)\n",
            "image 368/463 /content/data/orand-car-with-bbs/test/images/handwritten_MX8900201937120351787_Vz4HNhuAOE63wY2qdvA13Q.bmp: 160x640 2 0s, 1 2, 1 4, 2 8s, Done. (0.008s)\n",
            "image 369/463 /content/data/orand-car-with-bbs/test/images/handwritten_MX8900201937120509302_2j16D1qcmkaS8uGfSfllhA.bmp: 160x640 1 0, 2 3s, 1 7, 2 8s, Done. (0.006s)\n",
            "image 370/463 /content/data/orand-car-with-bbs/test/images/handwritten_MX8900201937120612544_HyOn8I0ad0Smy6_2s9IRHQ.bmp: 128x640 1 0, 3 1s, 1 2, 1 3, Done. (0.007s)\n",
            "image 371/463 /content/data/orand-car-with-bbs/test/images/handwritten_MX8900201937123432474_Q7ITULMS8kujwMDrhYQHbA.bmp: 192x640 3 2s, 1 5, 2 9s, Done. (0.007s)\n",
            "image 372/463 /content/data/orand-car-with-bbs/test/images/handwritten_MX8900201937123545912_svweIxH2UkaqrSFQns5_BQ.bmp: 224x640 1 1, 2 4s, 1 5, 2 7s, 1 8, Done. (0.007s)\n",
            "image 373/463 /content/data/orand-car-with-bbs/test/images/handwritten_MX8900201937123639799_9HtWTm4y2Eiw8kM55rtH6Q.bmp: 224x640 1 1, 1 2, 1 6, 2 7s, Done. (0.006s)\n",
            "image 374/463 /content/data/orand-car-with-bbs/test/images/handwritten_MX8900201937123650293_i2maTdv7HUKCU0KRCyF9kg.bmp: 128x640 1 0, 1 2, 2 5s, 3 9s, Done. (0.007s)\n",
            "image 375/463 /content/data/orand-car-with-bbs/test/images/handwritten_MX8900201937124012497_EaJw8GwyPEiIeYjzpBfKiQ.bmp: 224x640 3 1s, 1 3, 2 4s, Done. (0.007s)\n",
            "image 376/463 /content/data/orand-car-with-bbs/test/images/handwritten_MX8900201937124117687_PAS4lQdTak68Z8c-WCxPvw.bmp: 160x640 3 2s, 1 4, 1 6, 1 9, Done. (0.007s)\n",
            "image 377/463 /content/data/orand-car-with-bbs/test/images/handwritten_MX8900201937125045584_nDYTcXM_fUCujaVQB3QX8A.bmp: 128x640 1 0, 1 2, 1 4, 2 5s, 1 7, 1 8, Done. (0.007s)\n",
            "image 378/463 /content/data/orand-car-with-bbs/test/images/handwritten_MX8900201937125839617_kJ4RLujm_0Ozwk7-pW-MNA.bmp: 128x640 3 0s, 1 1, 1 5, 1 7, Done. (0.007s)\n",
            "image 379/463 /content/data/orand-car-with-bbs/test/images/handwritten_MX8900201937130540719_DxYfSCSSxEegK1uJoXP9iA.bmp: 64x640 2 1s, 1 2, 2 4s, 1 5, Done. (0.007s)\n",
            "image 380/463 /content/data/orand-car-with-bbs/test/images/handwritten_MX8900201937132756665_AezwvYZcxEy5Re5XjEJwdA.bmp: 128x640 1 0, 2 5s, 2 8s, 1 9, Done. (0.007s)\n",
            "image 381/463 /content/data/orand-car-with-bbs/test/images/handwritten_MX8900201937133643814_EJzCLmScVEWuEUQUScGGeg.bmp: 128x640 5 0s, 1 3, 1 5, Done. (0.006s)\n",
            "image 382/463 /content/data/orand-car-with-bbs/test/images/handwritten_MX8900201937145757002_V-9R1iHisUC9bhza1onPug.bmp: 256x640 3 0s, 1 3, 1 5, Done. (0.007s)\n",
            "image 383/463 /content/data/orand-car-with-bbs/test/images/handwritten_MX8900201937150226494_gyUcwfJ1RU-6CiyriUGTRw.bmp: 96x640 3 0s, 1 3, 1 5, Done. (0.007s)\n",
            "image 384/463 /content/data/orand-car-with-bbs/test/images/handwritten_MX8900201937150337422_3W40sDiiP0Sg5yjGkkktrA.bmp: 128x640 4 0s, 1 8, Done. (0.007s)\n",
            "image 385/463 /content/data/orand-car-with-bbs/test/images/handwritten_MX8900201938092338068_3PfetxWHNEqq7Z8I2RDHYg.bmp: 160x640 2 0s, 2 3s, 2 6s, Done. (0.007s)\n",
            "image 386/463 /content/data/orand-car-with-bbs/test/images/handwritten_MX8900201938092653555_xBxxzKaRukKnEt1ZFvi0Zw.bmp: 128x640 1 0, 1 2, 2 5s, 1 6, Done. (0.007s)\n",
            "image 387/463 /content/data/orand-car-with-bbs/test/images/handwritten_MX8900201938093148841_uUzTaFQrf0O7KabLdmyl4A.bmp: 96x640 1 0, 1 3, 1 5, 1 6, 1 7, 2 8s, Done. (0.007s)\n",
            "image 388/463 /content/data/orand-car-with-bbs/test/images/handwritten_MX8900201938101330779_Cstz5Brk1Ems4OA2nw8yaw.bmp: 160x640 1 1, 1 2, 1 4, 1 5, 1 6, 1 7, Done. (0.007s)\n",
            "image 389/463 /content/data/orand-car-with-bbs/test/images/handwritten_MX8900201938103746345_CS_iIONh2USCkbVKzRDiTw.bmp: 96x640 7 0s, 2 2s, Done. (0.007s)\n",
            "image 390/463 /content/data/orand-car-with-bbs/test/images/handwritten_MX8900201938113332138_ZPtO6dU9GUWZj_6YHzxdGw.bmp: 224x640 1 4, 1 6, 2 7s, 1 8, Done. (0.007s)\n",
            "image 391/463 /content/data/orand-car-with-bbs/test/images/handwritten_MX8900201938113444315_lR9B6limPkWUEiX9oIQJSA.bmp: 160x640 2 1s, 3 2s, 1 7, Done. (0.007s)\n",
            "image 392/463 /content/data/orand-car-with-bbs/test/images/handwritten_MX8900201938113821801_caaX6R4Qfke2MXTJxCe8-w.bmp: 96x640 7 0s, 1 2, Done. (0.008s)\n",
            "image 393/463 /content/data/orand-car-with-bbs/test/images/handwritten_MX8900201938113939735_nmTP5bQcRkG5sD4uv6P5pw.bmp: 96x640 3 0s, 1 1, 1 3, 1 5, 1 6, Done. (0.006s)\n",
            "image 394/463 /content/data/orand-car-with-bbs/test/images/handwritten_MX8900201938114056087_qmjKopdIiEq3U9c8fXQQXw.bmp: 192x640 4 0s, 1 7, 1 8, Done. (0.007s)\n",
            "image 395/463 /content/data/orand-car-with-bbs/test/images/handwritten_MX8900201938120421019_65WLqOPSok6B-TBZTNBdMg.bmp: 128x640 1 1, 1 2, 1 3, 1 5, 1 6, 1 7, Done. (0.007s)\n",
            "image 396/463 /content/data/orand-car-with-bbs/test/images/handwritten_MX8900201938120544997_DC_0ZbJFw0G8D60sRc0zmg.bmp: 128x640 1 5, 1 6, 2 7s, 1 8, Done. (0.007s)\n",
            "image 397/463 /content/data/orand-car-with-bbs/test/images/handwritten_MX8900201938120659066_K86qEwddq0WJg6kkBM1riQ.bmp: 192x640 1 1, 2 2s, 1 4, 1 8, Done. (0.007s)\n",
            "image 398/463 /content/data/orand-car-with-bbs/test/images/handwritten_MX8900201938121830343_Fr7Oys2zK0mgzzUl83LpjA.bmp: 192x640 2 2s, 1 5, 1 6, 2 7s, Done. (0.006s)\n",
            "image 399/463 /content/data/orand-car-with-bbs/test/images/handwritten_MX8900201938122413705_ZWCckUI3RkuoqTYlE_inbg.bmp: 128x640 2 0s, 1 7, 1 8, 1 9, Done. (0.007s)\n",
            "image 400/463 /content/data/orand-car-with-bbs/test/images/handwritten_MX8900201938123015396_c1c0tYYeYkmyO99G1sNb9Q.bmp: 128x640 1 0, 1 1, 1 2, 2 6s, 1 7, Done. (0.006s)\n",
            "image 401/463 /content/data/orand-car-with-bbs/test/images/handwritten_MX8900201938123308458_g8oF_uQQ3EmMHlB7h21kJw.bmp: 128x640 1 0, 2 1s, 2 3s, 1 4, 1 7, Done. (0.006s)\n",
            "image 402/463 /content/data/orand-car-with-bbs/test/images/handwritten_MX8900201938123600858_2nOtLHGHf0eMRS0Pnfzang.bmp: 96x640 1 1, 1 3, 1 4, 1 7, 2 9s, Done. (0.007s)\n",
            "image 403/463 /content/data/orand-car-with-bbs/test/images/handwritten_MX8900201938123749072_wUNaBaODski7Ps2TaQhSXw.bmp: 64x640 1 0, 1 3, 2 4s, 1 5, 2 8s, 1 9, Done. (0.007s)\n",
            "image 404/463 /content/data/orand-car-with-bbs/test/images/handwritten_MX8900201938130448893_auFpA5hVvE-hiR9-f2YvPg.bmp: 64x640 1 0, 2 1s, 2 6s, 2 7s, 1 9, Done. (0.006s)\n",
            "image 405/463 /content/data/orand-car-with-bbs/test/images/handwritten_MX8900201938132003550_wbg5cTb9aUGCK5pnfms0tw.bmp: 128x640 3 0s, 2 2s, Done. (0.007s)\n",
            "image 406/463 /content/data/orand-car-with-bbs/test/images/handwritten_MX8900201938135110563_G-oTOJEVLEKvnUfAceMCcA.bmp: 160x640 2 0s, 1 2, 2 4s, 1 8, Done. (0.007s)\n",
            "image 407/463 /content/data/orand-car-with-bbs/test/images/handwritten_MX8900201938135138991_Qe6t3OzZikOQuNE-F6hX6g.bmp: 128x640 4 0s, 2 6s, 1 8, Done. (0.007s)\n",
            "image 408/463 /content/data/orand-car-with-bbs/test/images/handwritten_MX8900201938135537305_iiNrcrrqJkyFiPF31io4nw.bmp: 160x640 1 1, 2 5s, 2 8s, Done. (0.007s)\n",
            "image 409/463 /content/data/orand-car-with-bbs/test/images/handwritten_MX8900201938154049025_Myxlv7hJrUKDNLRl4CPnQw.bmp: 128x640 3 0s, 1 1, 2 5s, Done. (0.007s)\n",
            "image 410/463 /content/data/orand-car-with-bbs/test/images/handwritten_MX8900201938154211813_kziXPzyVtUiG-oqunrWZZA.bmp: 160x640 3 0s, 1 2, 1 9, Done. (0.007s)\n",
            "image 411/463 /content/data/orand-car-with-bbs/test/images/handwritten_MX8900201938161056022_clII3Swre0mscL94_7lUCg.bmp: 192x640 4 0s, 1 1, Done. (0.007s)\n",
            "image 412/463 /content/data/orand-car-with-bbs/test/images/handwritten_MX8900201939094234730_hdSnaYZgKECvczeIEslsEA.bmp: 128x640 2 0s, 2 1s, 1 2, 1 9, Done. (0.007s)\n",
            "image 413/463 /content/data/orand-car-with-bbs/test/images/handwritten_MX8900201939094345762_myesvocJe0-FPg7GRJeyeA.bmp: 64x640 1 0, 2 3s, 2 4s, 1 7, 1 8, Done. (0.007s)\n",
            "image 414/463 /content/data/orand-car-with-bbs/test/images/handwritten_MX8900201939094505656_U2cJ0Vjju02Xb17E-vxXVA.bmp: 224x640 2 1s, 1 2, 1 5, 1 6, 1 7, Done. (0.007s)\n",
            "image 415/463 /content/data/orand-car-with-bbs/test/images/handwritten_MX8900201939094536115_nkISaa14Dkuc12LC4KAX6w.bmp: 96x640 1 1, 1 7, 1 8, 2 9s, Done. (0.007s)\n",
            "image 416/463 /content/data/orand-car-with-bbs/test/images/handwritten_MX8900201939094759352_evWH5eajdkOAM-8sNA7twQ.bmp: 160x640 1 2, 1 4, 2 5s, 2 8s, Done. (0.007s)\n",
            "image 417/463 /content/data/orand-car-with-bbs/test/images/handwritten_MX8900201939094938194_egROJUiIG0Cu7ufIbbc2QQ.bmp: 192x640 1 0, 2 1s, 1 4, 2 9s, Done. (0.007s)\n",
            "image 418/463 /content/data/orand-car-with-bbs/test/images/handwritten_MX8900201939101547639_0uBiQBuQoEyW4Ji_0i6qwA.bmp: 192x640 4 0s, 1 3, 1 5, Done. (0.006s)\n",
            "image 419/463 /content/data/orand-car-with-bbs/test/images/handwritten_MX8900201939101804714_kXLjazUF1EOdmNhZCrN7Sg.bmp: 96x640 2 0s, 2 1s, 1 2, 1 7, 1 9, Done. (0.007s)\n",
            "image 420/463 /content/data/orand-car-with-bbs/test/images/handwritten_MX8900201939101956672_cTndCjIWW0aGpWpAq5cvlg.bmp: 96x640 1 0, 3 2s, 1 6, 1 7, 1 8, Done. (0.006s)\n",
            "image 421/463 /content/data/orand-car-with-bbs/test/images/handwritten_MX8900201939102204546_33C__UewT0e-HHn_WpG0QQ.bmp: 192x640 2 0s, 1 3, 1 5, 1 8, 1 9, Done. (0.007s)\n",
            "image 422/463 /content/data/orand-car-with-bbs/test/images/handwritten_MX8900201939102313696_VboxuRiaEEGy_twGVI12qw.bmp: 96x640 3 0s, 1 1, 1 5, 1 7, 1 8, Done. (0.007s)\n",
            "image 423/463 /content/data/orand-car-with-bbs/test/images/handwritten_MX8900201939102412978_JbzksKBEkEOdVrqPqy6mUQ.bmp: 128x640 1 2, 1 4, 1 5, 2 7s, 1 8, 2 9s, Done. (0.007s)\n",
            "image 424/463 /content/data/orand-car-with-bbs/test/images/handwritten_MX8900201939103648773_4ohkPt_DTEWGLRPHhbkH8w.bmp: 224x640 4 0s, 1 2, 1 7, Done. (0.007s)\n",
            "image 425/463 /content/data/orand-car-with-bbs/test/images/handwritten_MX8900201939103813633_tqEbYMa3Pkeq1XE7-j1CaQ.bmp: 192x640 3 0s, 1 2, 1 7, Done. (0.007s)\n",
            "image 426/463 /content/data/orand-car-with-bbs/test/images/handwritten_MX8900201939115104871_ytftG0GoMkSzJGuJAV_DJg.bmp: 128x640 2 2s, 2 3s, 1 4, 1 9, Done. (0.007s)\n",
            "image 427/463 /content/data/orand-car-with-bbs/test/images/handwritten_MX8900201939121345956_BTVq9qP4ZESS59eCcqYmbg.bmp: 160x640 1 0, 1 1, 1 2, 1 4, 1 5, 1 6, Done. (0.007s)\n",
            "image 428/463 /content/data/orand-car-with-bbs/test/images/handwritten_MX8900201939123241649_e7MeCY2y30W9NRhUx3gdyw.bmp: 224x640 3 0s, 1 1, 1 3, 1 8, Done. (0.007s)\n",
            "image 429/463 /content/data/orand-car-with-bbs/test/images/handwritten_MX8900201939131913493_aA1PJ-Rwa0Gwb48CTqre7A.bmp: 224x640 1 0, 2 1s, 2 3s, Done. (0.006s)\n",
            "image 430/463 /content/data/orand-car-with-bbs/test/images/handwritten_MX8900201939132454669_f1CEutQhbkqjzCSTReeXUA.bmp: 160x640 1 0, 1 2, 1 4, 1 7, 2 8s, Done. (0.007s)\n",
            "image 431/463 /content/data/orand-car-with-bbs/test/images/handwritten_MX8900201939133159938_oLGIn3yHtEqfgpYqfmRCMQ.bmp: 96x640 1 0, 1 2, 3 7s, 1 9, Done. (0.008s)\n",
            "image 432/463 /content/data/orand-car-with-bbs/test/images/handwritten_MX8900201939133736844_O-5d567mhE6WzZxECFLwfA.bmp: 96x640 1 1, 1 2, 1 3, 1 6, 1 7, 1 8, Done. (0.006s)\n",
            "image 433/463 /content/data/orand-car-with-bbs/test/images/handwritten_MX8900201939134422779_k01y5IaG4kmgg-dMBRC1fw.bmp: 128x640 5 0s, Done. (0.007s)\n",
            "image 434/463 /content/data/orand-car-with-bbs/test/images/handwritten_MX8900201939134955848_5224lRdey0G-cbXSu6nltg.bmp: 128x640 1 1, 2 3s, 1 4, 1 8, 1 9, Done. (0.006s)\n",
            "image 435/463 /content/data/orand-car-with-bbs/test/images/handwritten_MX8900201942091010861_YI1r7WzhjUu4qdLYHdrzGw.bmp: 160x640 1 2, 1 3, 2 4s, 1 8, 1 9, Done. (0.007s)\n",
            "image 436/463 /content/data/orand-car-with-bbs/test/images/handwritten_MX8900201942092626212_ehJrUG7tQkSr3qJCUg3DjQ.bmp: 64x640 1 1, 2 3s, 1 4, 1 7, 1 8, 1 9, Done. (0.007s)\n",
            "image 437/463 /content/data/orand-car-with-bbs/test/images/handwritten_MX8900201942110812477_W2UQYLLr2kGnxspE1OaNLQ.bmp: 224x640 1 0, 3 1s, 1 5, 1 8, Done. (0.007s)\n",
            "image 438/463 /content/data/orand-car-with-bbs/test/images/handwritten_MX8900201942111032793_23_FxIX_8EWq_J4b_s06tQ.bmp: 192x640 2 1s, 1 2, 1 3, 2 8s, Done. (0.008s)\n",
            "image 439/463 /content/data/orand-car-with-bbs/test/images/handwritten_MX8900201942112115558_l0OxyVGSpUyDlVPbKeRmpA.bmp: 192x640 1 1, 2 2s, 1 3, 1 6, 1 8, Done. (0.006s)\n",
            "image 440/463 /content/data/orand-car-with-bbs/test/images/handwritten_MX8900201942112259704_4DdMmuHWKEWVyyAjntpZ0Q.bmp: 192x640 1 4, 1 5, 2 6s, 1 7, Done. (0.006s)\n",
            "image 441/463 /content/data/orand-car-with-bbs/test/images/handwritten_MX8900201942112413791_WcrYG7g65kenKurfWU3d_A.bmp: 224x640 2 0s, 1 2, 1 5, 1 9, Done. (0.007s)\n",
            "image 442/463 /content/data/orand-car-with-bbs/test/images/handwritten_MX8900201942112826147_D1n_9pGVAEy8Om8MIrEbjQ.bmp: 160x640 3 1s, 1 2, 1 7, 1 9, Done. (0.007s)\n",
            "image 443/463 /content/data/orand-car-with-bbs/test/images/handwritten_MX8900201942113731204_NkJ6GCt69Eu8Y80IuF-wNg.bmp: 128x640 1 0, 3 2s, 2 3s, 1 5, 1 6, Done. (0.007s)\n",
            "image 444/463 /content/data/orand-car-with-bbs/test/images/handwritten_MX8900201942113837707_DddaB9wIlEmI-lYpavZ2cw.bmp: 128x640 1 1, 2 3s, 2 5s, Done. (0.006s)\n",
            "image 445/463 /content/data/orand-car-with-bbs/test/images/handwritten_MX8900201942113842986_nJDuSsfGBEC8qBWwGsfpsg.bmp: 128x640 2 0s, 1 1, 2 4s, 1 6, 1 8, Done. (0.006s)\n",
            "image 446/463 /content/data/orand-car-with-bbs/test/images/handwritten_MX8900201942120322711_kiK9UgPS1UWLj-YADi3Q2Q.bmp: 192x640 1 3, 1 4, 1 5, 1 8, 2 9s, Done. (0.007s)\n",
            "image 447/463 /content/data/orand-car-with-bbs/test/images/handwritten_MX8900201942120415638_wU2GZZ68JESGibCLV-5psg.bmp: 128x640 3 1s, 2 2s, 1 3, Done. (0.007s)\n",
            "image 448/463 /content/data/orand-car-with-bbs/test/images/handwritten_MX8900201942120449741_1U2RewD2MkmCrUuMaBuL4Q.bmp: 128x640 1 1, 2 2s, 1 3, 1 8, Done. (0.006s)\n",
            "image 449/463 /content/data/orand-car-with-bbs/test/images/handwritten_MX8900201942120554572_D9uRKt5PFE2SJdxSTxEtjQ.bmp: 128x640 1 1, 1 2, 1 5, 3 8s, Done. (0.007s)\n",
            "image 450/463 /content/data/orand-car-with-bbs/test/images/handwritten_MX8900201942121434628_yz-GyxDe9E2c1PPPzvVpcw.bmp: 160x640 2 0s, 1 2, 1 5, 1 6, 1 8, Done. (0.007s)\n",
            "image 451/463 /content/data/orand-car-with-bbs/test/images/handwritten_MX8900201942121649627_ctJPv-c9T0S7wjeXgmsThg.bmp: 96x640 5 0s, 1 1, 1 3, Done. (0.007s)\n",
            "image 452/463 /content/data/orand-car-with-bbs/test/images/handwritten_MX8900201942122633809_BvrhX_6ZIkijLcUgGies4A.bmp: 128x640 1 1, 1 3, 2 7s, 1 9, Done. (0.007s)\n",
            "image 453/463 /content/data/orand-car-with-bbs/test/images/handwritten_MX8900201942124101060_z_nzihlo8EOtZcqNRawZ4A.bmp: 160x640 4 0s, 1 2, 1 8, Done. (0.007s)\n",
            "image 454/463 /content/data/orand-car-with-bbs/test/images/handwritten_MX8900201942125028166_GcFUH9eZ9EO-QREMzLJR7g.bmp: 96x640 2 2s, 1 6, 1 7, 2 8s, Done. (0.007s)\n",
            "image 455/463 /content/data/orand-car-with-bbs/test/images/handwritten_MX8900201942125208577_721xP6Wo-UK2IxPi0aKBKA.bmp: 96x640 1 0, 2 1s, 1 4, 1 5, Done. (0.007s)\n",
            "image 456/463 /content/data/orand-car-with-bbs/test/images/handwritten_MX8900201942125720700_27VGMPZCmU2sTaZvLtpDwQ.bmp: 192x640 1 2, 1 3, 2 5s, 2 7s, Done. (0.008s)\n",
            "image 457/463 /content/data/orand-car-with-bbs/test/images/handwritten_MX8900201942130205120__I8XM8dhJkib9SbTALlCog.bmp: 288x640 1 4, 1 5, 1 6, 1 7, 1 8, Done. (0.011s)\n",
            "image 458/463 /content/data/orand-car-with-bbs/test/images/handwritten_MX8900201942130915321_QgHiGXdUokucoM6h7t3n4Q.bmp: 192x640 4 0s, 1 7, Done. (0.007s)\n",
            "image 459/463 /content/data/orand-car-with-bbs/test/images/handwritten_MX8900201942131236505_ZLue9lpZjUmQp7Pjh88Cwg.bmp: 192x640 4 0s, 1 7, Done. (0.007s)\n",
            "image 460/463 /content/data/orand-car-with-bbs/test/images/handwritten_MX8900201942131532614_NNAWh0_-KU-gkMLr6kAX1A.bmp: 160x640 4 0s, 1 1, 1 4, Done. (0.008s)\n",
            "image 461/463 /content/data/orand-car-with-bbs/test/images/handwritten_MX8900201942131754534_jbWFXf7cpUi5FFUP8HUYhw.bmp: 128x640 2 0s, 1 1, 1 2, 1 4, 1 8, Done. (0.007s)\n",
            "image 462/463 /content/data/orand-car-with-bbs/test/images/handwritten_MX8900201942131952150_i1MDfE1VskyfxGEFlpm-hA.bmp: 160x640 2 0s, 1 1, 1 2, 1 4, 1 8, Done. (0.007s)\n",
            "image 463/463 /content/data/orand-car-with-bbs/test/images/handwritten_MX8900201942132157920_YSOVCz1ykU2rWtn4Yrh7qQ.bmp: 160x640 4 0s, 1 1, 1 2, 1 5, Done. (0.006s)\n",
            "Speed: 0.2ms pre-process, 6.8ms inference, 0.8ms NMS per image at shape (1, 3, 640, 640)\n",
            "Results saved to \u001b[1mruns/detect/exp\u001b[0m\n",
            "463 labels saved to runs/detect/exp/labels\n"
          ]
        }
      ]
    },
    {
      "cell_type": "code",
      "metadata": {
        "id": "9YGG02ar8Dod"
      },
      "source": [
        "!mkdir -p /content/drive/MyDrive/image_processing/tarea2/testing2\n",
        "!rm -rf /content/drive/MyDrive/image_processing/tarea2/testing2/*\n"
      ],
      "execution_count": 13,
      "outputs": []
    },
    {
      "cell_type": "code",
      "metadata": {
        "id": "ogMjQrChevar"
      },
      "source": [
        "!cp -r /content/yolov5/runs/detect /content/drive/MyDrive/image_processing/tarea2/testing2/runs"
      ],
      "execution_count": 14,
      "outputs": []
    },
    {
      "cell_type": "code",
      "metadata": {
        "colab": {
          "base_uri": "https://localhost:8080/",
          "height": 85
        },
        "id": "yRb4MdPenmU-",
        "outputId": "0abc9dc2-d1f7-4be3-a045-f6f0746e5322"
      },
      "source": [
        "from IPython.display import Image, display\n",
        "\n",
        "display(Image('/content/yolov5/runs/test/exp/confusion_matrix.png'))\n",
        "display(Image('/content/yolov5/runs/test/exp/results.png'))\n",
        "display(Image('/content/yolov5/runs/test/exp/val_batch2_labels.jpg'))\n",
        "display(Image('/content/yolov5/runs/test/exp/val_batch2_pred.jpg'))"
      ],
      "execution_count": 17,
      "outputs": [
        {
          "output_type": "display_data",
          "data": {
            "image/png": "/content/yolov5/runs/detect/exp/confusion_matrix.png",
            "text/plain": [
              "<IPython.core.display.Image object>"
            ]
          },
          "metadata": {}
        },
        {
          "output_type": "display_data",
          "data": {
            "image/png": "/content/yolov5/runs/detect/exp/results.png",
            "text/plain": [
              "<IPython.core.display.Image object>"
            ]
          },
          "metadata": {}
        },
        {
          "output_type": "display_data",
          "data": {
            "image/png": "/content/yolov5/runs/detect/exp/val_batch2_labels.jpg",
            "text/plain": [
              "<IPython.core.display.Image object>"
            ]
          },
          "metadata": {}
        },
        {
          "output_type": "display_data",
          "data": {
            "image/png": "/content/yolov5/runs/detect/exp/val_batch2_pred.jpg",
            "text/plain": [
              "<IPython.core.display.Image object>"
            ]
          },
          "metadata": {}
        }
      ]
    },
    {
      "cell_type": "code",
      "metadata": {
        "id": "1gCJ-zKzp8AF"
      },
      "source": [
        ""
      ],
      "execution_count": null,
      "outputs": []
    }
  ]
}